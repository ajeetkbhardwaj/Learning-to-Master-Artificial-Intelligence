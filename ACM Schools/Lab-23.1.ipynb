{
 "cells": [
  {
   "cell_type": "markdown",
   "metadata": {},
   "source": [
    "# Lab-23.1 : End-to-End Machine Learning Project Life Cycle\n",
    "<p align='center'>Assume that we are hired data junior scientists at a real state company</p>\n"
   ]
  },
  {
   "cell_type": "markdown",
   "metadata": {},
   "source": [
    "## Problem Statement : `Framing the problem statement and looking at the big picture of it.`\n",
    "1. Aim to define the objectives in a business terms thus we frame questions accordingly to find the answer to it.\n",
    "   - How would the solution be used ?\n",
    "   - What are the current solutions/workarounds ?\n",
    "   - How should we frame the this particular problem ?\n",
    "   - How should performance be measured ?\n",
    "   - Is the performance measure aligned with the business objective ?\n",
    "   - What would be the minimum performance needed to reach the businees objective ?\n",
    "   - What are the comparable problems ? can we use previous methods or tools ?\n",
    "   - Is human experties available ?\n",
    "   - How would we solve the problem manually ?\n",
    "   - List the assumptions we/others have made so far ?\n",
    "   - Verify the assumptions if possible ?\n",
    "2. Now, Try to acquire/collect the relevent Data \n",
    "   - We list the data we need and how much ?\n",
    "   - We find & Document where can we get that data.\n",
    "   - We check how much space it will take.\n",
    "   - We check the legal obligations & get authorization if necessary.\n",
    "   - We get access authorization.\n",
    "   - We create a workspace with enough storage space.\n",
    "   - We get the data.\n",
    "   - We convert the data into a format we can easily manipulate.\n",
    "   - We ensure sensitive information is either deleted or protected.\n",
    "   - We check the size & type of data.\n",
    "   - We sample a test set, put it aside, and never look at it\n",
    "\n",
    "3. Explore the properties and information related to data\n",
    "   - We create a copy of the data for exploration and sample it down if necessary\n",
    "   - We create a Jupyter notebook to save our data exploration sessions.\n",
    "   - We study each attribute (column) and its characteristics:\n",
    "       - Name\n",
    "       - Type (Categorical, Continuous, Int/Float, Structured/Unstructured, Text ..)\n",
    "       - % of missing values\n",
    "       - Noisiness and type of noise (Stochastic, rounding error, ..)\n",
    "       - Usefulness for the task\n",
    "       - Type of distribution (Gaussian, Logarithmic, Uniform ..)\n",
    "    - For supervised Learning tasks, we identify the target attribute\n",
    "    - We visualize the data\n",
    "    - We study the correlations between attributes\n",
    "    - We study how we would solve the problem manually\n",
    "    - We identify the promising transformations we may want to apply\n",
    "    - We Identify Extra data that would be useful\n",
    "    - We Document what we have learned in report\n"
   ]
  },
  {
   "cell_type": "code",
   "execution_count": null,
   "metadata": {},
   "outputs": [],
   "source": []
  }
 ],
 "metadata": {
  "language_info": {
   "name": "python"
  }
 },
 "nbformat": 4,
 "nbformat_minor": 2
}

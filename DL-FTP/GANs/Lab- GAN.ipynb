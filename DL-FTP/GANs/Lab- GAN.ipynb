{
 "cells": [
  {
   "cell_type": "markdown",
   "metadata": {},
   "source": [
    "Lab -1 : GANs \n",
    "\n"
   ]
  },
  {
   "cell_type": "code",
   "execution_count": 3,
   "metadata": {},
   "outputs": [],
   "source": [
    "%matplotlib inline\n",
    "\n",
    "#import torch\n",
    "#from torch import nn\n",
    "\n",
    "import numpy as np\n",
    "import matplotlib.pyplot as plt"
   ]
  },
  {
   "cell_type": "markdown",
   "metadata": {},
   "source": [
    "### 1. Data Generation\n",
    "We will generate the data from the normal gaussian distribution"
   ]
  },
  {
   "cell_type": "code",
   "execution_count": null,
   "metadata": {},
   "outputs": [],
   "source": [
    "X = torch.normal(0.0, 1, (10000, 2))\n",
    "A = torch.tensor([1, 2], [0.1, 0.6])\n",
    "b = torch.tensor([1, 2])\n",
    "data = torch.matmul(X, A) + b\n",
    "\n",
    "data"
   ]
  },
  {
   "cell_type": "code",
   "execution_count": null,
   "metadata": {},
   "outputs": [],
   "source": [
    "plt.scatter(data[:100, (0)].detach().numpy(), data[:100, (1)].detach().numpy())\n",
    "plt.show()"
   ]
  },
  {
   "cell_type": "code",
   "execution_count": null,
   "metadata": {},
   "outputs": [],
   "source": [
    "print(\"The covariance matrix A^TA is : \", torch.matmul(A.T, A))"
   ]
  },
  {
   "cell_type": "code",
   "execution_count": null,
   "metadata": {},
   "outputs": [],
   "source": [
    "batch_size = 8\n",
    "data_iter = d2l.load_array()\n"
   ]
  },
  {
   "cell_type": "markdown",
   "metadata": {},
   "source": [
    "### Example2"
   ]
  },
  {
   "cell_type": "code",
   "execution_count": 4,
   "metadata": {},
   "outputs": [],
   "source": [
    "# Get a batch of real data.  Our goal is to make data that looks like this.\n",
    "def get_real_data_batch(n_sample):\n",
    "  np.random.seed(0)\n",
    "  x_true = np.random.normal(size=(1,n_sample)) + 7.5\n",
    "  return x_true\n",
    "\n",
    "# generator function\n",
    "# takes a standard normally-distributed latent variable z and adds \\theta a scalar\n",
    "# model can generate the family of Gaussian distributions with unit variance, but different means\n",
    "def generator(z, theta):\n",
    "    x_gen = z + theta\n",
    "    return x_gen\n",
    "\n",
    "# building discreminator : logistic regression model 1D linear model which passed through the sigmoid \n",
    "# that return s the probability that data is real\n",
    "\n",
    "# sigmoid function f: [-inf, +inf] to [0, 1]\n",
    "def sigmoid(data_in):\n",
    "    return 1.0/ (1.0 + np.exp(-data_in))\n",
    "\n",
    "# Discriminator computes y\n",
    "def discriminator(x, phi0, phi1):\n",
    "  return sigmoid(phi0 + phi1 * x)"
   ]
  },
  {
   "cell_type": "code",
   "execution_count": 5,
   "metadata": {},
   "outputs": [],
   "source": [
    "# Draws a figure like Figure 15.1a\n",
    "def draw_data_model(x_real, x_syn, phi0=None, phi1=None):\n",
    "  fix, ax = plt.subplots();\n",
    "\n",
    "  for x in x_syn:\n",
    "    ax.plot([x,x],[0,0.33],color='#f47a60')\n",
    "  for x in x_real:\n",
    "    ax.plot([x,x],[0,0.33],color='#7fe7dc')\n",
    "\n",
    "  if phi0 is not None:\n",
    "    x_model = np.arange(0,10,0.01)\n",
    "    y_model = discriminator(x_model, phi0, phi1)\n",
    "    ax.plot(x_model, y_model,color='#dddddd')\n",
    "  ax.set_xlim([0,10])\n",
    "  ax.set_ylim([0,1])\n",
    "\n",
    "\n",
    "  plt.show()\n",
    "     "
   ]
  },
  {
   "cell_type": "code",
   "execution_count": 6,
   "metadata": {},
   "outputs": [
    {
     "data": {
      "image/png": "[encoded data removed]",
      "text/plain": [
       "<Figure size 432x288 with 1 Axes>"
      ]
     },
     "metadata": {
      "needs_background": "light"
     },
     "output_type": "display_data"
    }
   ],
   "source": [
    "# Get data batch\n",
    "x_real = get_real_data_batch(10)\n",
    "\n",
    "# Initialize generator and synthesize a batch of examples\n",
    "theta = 3.0\n",
    "np.random.seed(1)\n",
    "z = np.random.normal(size=(1,10))\n",
    "x_syn = generator(z, theta)\n",
    "\n",
    "# Initialize discriminator model\n",
    "phi0 = -2\n",
    "phi1 = 1\n",
    "\n",
    "draw_data_model(x_real, x_syn, phi0, phi1)"
   ]
  },
  {
   "cell_type": "code",
   "execution_count": null,
   "metadata": {},
   "outputs": [],
   "source": [
    "# discriminators loss\n",
    "def compute_discriminator_loss(x_real, x_syn, phi0, phi1):\n",
    "    \"\"\"\n",
    "    Write the disciminator loss function which computes it's loss\n",
    "    \n",
    "    \"\"\"\n",
    "    loss = 0.0\n",
    "    return loss"
   ]
  },
  {
   "cell_type": "code",
   "execution_count": null,
   "metadata": {},
   "outputs": [],
   "source": [
    "# Test the loss\n",
    "loss = compute_discriminator_loss(x_real, x_syn, phi0, phi1)\n",
    "print(\"True Loss = 13.814757170851447, Your loss=\", loss )"
   ]
  },
  {
   "cell_type": "code",
   "execution_count": null,
   "metadata": {},
   "outputs": [],
   "source": [
    "# Gradient of loss (cheating, using finite differences)\n",
    "def compute_discriminator_gradient(x_real, x_syn, phi0, phi1):\n",
    "  delta = 0.0001;\n",
    "  loss1 = compute_discriminator_loss(x_real, x_syn, phi0, phi1)\n",
    "  loss2 = compute_discriminator_loss(x_real, x_syn, phi0+delta, phi1)\n",
    "  loss3 = compute_discriminator_loss(x_real, x_syn, phi0, phi1+delta)\n",
    "  dl_dphi0 = (loss2-loss1) / delta\n",
    "  dl_dphi1 = (loss3-loss1) / delta\n",
    "\n",
    "  return dl_dphi0, dl_dphi1\n"
   ]
  },
  {
   "cell_type": "code",
   "execution_count": null,
   "metadata": {},
   "outputs": [],
   "source": [
    "# This routine performs gradient descent with the discriminator\n",
    "def update_discriminator(x_real, x_syn, n_iter, phi0, phi1):\n",
    "\n",
    "  # Define learning rate\n",
    "  alpha = 0.01\n",
    "\n",
    "  # Get derivatives\n",
    "  print(\"Initial discriminator loss = \", compute_discriminator_loss(x_real, x_syn, phi0, phi1))\n",
    "  for iter in range(n_iter):\n",
    "    # Get gradient\n",
    "    dl_dphi0, dl_dphi1 = compute_discriminator_gradient(x_real, x_syn, phi0, phi1)\n",
    "    # Take a gradient step downhill\n",
    "    phi0 = phi0 - alpha * dl_dphi0 ;\n",
    "    phi1 = phi1 - alpha * dl_dphi1 ;\n",
    "\n",
    "  print(\"Final Discriminator Loss= \", compute_discriminator_loss(x_real, x_syn, phi0, phi1))\n",
    "\n",
    "  return phi0, phi1"
   ]
  },
  {
   "cell_type": "code",
   "execution_count": null,
   "metadata": {},
   "outputs": [],
   "source": [
    "\n",
    "# Let's update the discriminator (sigmoid curve)\n",
    "n_iter = 100\n",
    "print(\"Initial parameters (phi0,phi1)\", phi0, phi1)\n",
    "phi0, phi1 = update_discriminator(x_real, x_syn, n_iter, phi0, phi1)\n",
    "print(\"Final parameters (phi0,phi1)\", phi0, phi1)\n",
    "draw_data_model(x_real, x_syn, phi0, phi1)\n",
    "     "
   ]
  },
  {
   "cell_type": "code",
   "execution_count": null,
   "metadata": {},
   "outputs": [],
   "source": [
    "# \n",
    "def compute_generator_loss(z, theta, phi0, phi1):\n",
    "  # TODO -- Run the generator on the latent variables z with the parameters theta\n",
    "  # to generate new data x_syn\n",
    "  # Then run the discriminator on the new data to get the probability of being real\n",
    "  # The loss is the total negative log probability of being synthesized (i.e. of not being real)\n",
    "  # Replace this code\n",
    "  loss = 1\n",
    "\n",
    "\n",
    "  return loss"
   ]
  },
  {
   "cell_type": "code",
   "execution_count": null,
   "metadata": {},
   "outputs": [],
   "source": [
    "# Test generator loss to check you have it correct\n",
    "loss = compute_generator_loss(z, theta, -2, 1)\n",
    "print(\"True Loss = 13.78437035945412, Your loss=\", loss )"
   ]
  },
  {
   "cell_type": "code",
   "execution_count": null,
   "metadata": {},
   "outputs": [],
   "source": [
    "def compute_generator_gradient(z, theta, phi0, phi1):\n",
    "  delta = 0.0001\n",
    "  loss1 = compute_generator_loss(z,theta, phi0, phi1) ;\n",
    "  loss2 = compute_generator_loss(z,theta+delta, phi0, phi1) ;\n",
    "  dl_dtheta = (loss2-loss1)/ delta\n",
    "  return dl_dtheta"
   ]
  },
  {
   "cell_type": "code",
   "execution_count": null,
   "metadata": {},
   "outputs": [],
   "source": [
    "def update_generator(z, theta, n_iter, phi0, phi1):\n",
    "    # Define learning rate\n",
    "    alpha = 0.02\n",
    "\n",
    "    # Get derivatives\n",
    "    print(\"Initial generator loss = \", compute_generator_loss(z, theta, phi0, phi1))\n",
    "    for iter in range(n_iter):\n",
    "      # Get gradient\n",
    "      dl_dtheta = compute_generator_gradient(z, theta, phi0, phi1)\n",
    "      # Take a gradient step (uphill, since we are trying to make synthesized data less well classified by discriminator)\n",
    "      theta = theta + alpha * dl_dtheta ;\n",
    "\n",
    "    print(\"Final generator loss = \", compute_generator_loss(z, theta, phi0, phi1))\n",
    "    return theta\n"
   ]
  },
  {
   "cell_type": "code",
   "execution_count": null,
   "metadata": {},
   "outputs": [],
   "source": [
    "n_iter = 10\n",
    "theta = 3.0\n",
    "print(\"Theta before\", theta)\n",
    "theta = update_generator(z, theta, n_iter, phi0, phi1)\n",
    "print(\"Theta after\", theta)\n",
    "\n",
    "x_syn = generator(z,theta)\n",
    "draw_data_model(x_real, x_syn, phi0, phi1)\n",
    "     "
   ]
  },
  {
   "cell_type": "code",
   "execution_count": null,
   "metadata": {},
   "outputs": [],
   "source": [
    "# Now let's define a full GAN loop\n",
    "\n",
    "# Initialize the parameters\n",
    "theta = 3\n",
    "phi0 = -2\n",
    "phi1 = 1\n",
    "\n",
    "# Number of iterations for updating generator and discriminator\n",
    "n_iter_discrim = 300\n",
    "n_iter_gen = 3\n",
    "\n",
    "print(\"Final parameters (phi0,phi1)\", phi0, phi1)\n",
    "for c_gan_iter in range(5):\n",
    "\n",
    "  # Run generator to product synthesized data\n",
    "  x_syn = generator(z, theta)\n",
    "  draw_data_model(x_real, x_syn, phi0, phi1)\n",
    "\n",
    "  # Update the discriminator\n",
    "  print(\"Updating discriminator\")\n",
    "  phi0, phi1 = update_discriminator(x_real, x_syn, n_iter_discrim, phi0, phi1)\n",
    "  draw_data_model(x_real, x_syn, phi0, phi1)\n",
    "\n",
    "  # Update the generator\n",
    "  print(\"Updating generator\")\n",
    "  theta = update_generator(z, theta, n_iter_gen, phi0, phi1)"
   ]
  },
  {
   "cell_type": "markdown",
   "metadata": {},
   "source": [
    "### r"
   ]
  },
  {
   "cell_type": "code",
   "execution_count": 7,
   "metadata": {},
   "outputs": [],
   "source": [
    "\n",
    "import numpy as np\n",
    "import matplotlib.pyplot as plt\n",
    "from matplotlib import cm\n",
    "from matplotlib.colors import ListedColormap\n",
    "from scipy.optimize import linprog"
   ]
  },
  {
   "cell_type": "code",
   "execution_count": 8,
   "metadata": {},
   "outputs": [
    {
     "data": {
      "image/png": "[encoded data removed]",
      "text/plain": [
       "<Figure size 432x288 with 2 Axes>"
      ]
     },
     "metadata": {
      "needs_background": "light"
     },
     "output_type": "display_data"
    }
   ],
   "source": [
    "# Define two probability distributions\n",
    "p = np.array([5, 3, 2, 1, 8, 7, 5, 9, 2, 1])\n",
    "q = np.array([4, 10,1, 1, 4, 6, 3, 2, 0, 1])\n",
    "p = p/np.sum(p);\n",
    "q=  q/np.sum(q);\n",
    "\n",
    "# Draw those distributions\n",
    "fig, ax =plt.subplots(2,1);\n",
    "x = np.arange(0,p.size,1)\n",
    "ax[0].bar(x,p, color=\"#cccccc\")\n",
    "ax[0].set_ylim([0,0.35])\n",
    "ax[0].set_ylabel(\"p(x=i)\")\n",
    "\n",
    "ax[1].bar(x,q,color=\"#f47a60\")\n",
    "ax[1].set_ylim([0,0.35])\n",
    "ax[1].set_ylabel(\"q(x=j)\")\n",
    "plt.show()"
   ]
  },
  {
   "cell_type": "code",
   "execution_count": null,
   "metadata": {},
   "outputs": [],
   "source": [
    "# TODO Define the distance matrix from figure 15.8d\n",
    "# Replace this line\n",
    "dist_mat = np.zeros((10,10))\n",
    "\n",
    "# vectorize the distance matrix\n",
    "c = dist_mat.flatten()\n",
    "     \n",
    "\n",
    "# Define pretty colormap\n",
    "my_colormap_vals_hex =('2a0902', '2b0a03', '2c0b04', '2d0c05', '2e0c06', '2f0d07', '300d08', '310e09', '320f0a', '330f0b', '34100b', '35110c', '36110d', '37120e', '38120f', '39130f', '3a1410', '3b1411', '3c1511', '3d1612', '3e1613', '3f1713', '401714', '411814', '421915', '431915', '451a16', '461b16', '471b17', '481c17', '491d18', '4a1d18', '4b1e19', '4c1f19', '4d1f1a', '4e201b', '50211b', '51211c', '52221c', '53231d', '54231d', '55241e', '56251e', '57261f', '58261f', '592720', '5b2821', '5c2821', '5d2922', '5e2a22', '5f2b23', '602b23', '612c24', '622d25', '632e25', '652e26', '662f26', '673027', '683027', '693128', '6a3229', '6b3329', '6c342a', '6d342a', '6f352b', '70362c', '71372c', '72372d', '73382e', '74392e', '753a2f', '763a2f', '773b30', '783c31', '7a3d31', '7b3e32', '7c3e33', '7d3f33', '7e4034', '7f4134', '804235', '814236', '824336', '834437', '854538', '864638', '874739', '88473a', '89483a', '8a493b', '8b4a3c', '8c4b3c', '8d4c3d', '8e4c3e', '8f4d3f', '904e3f', '924f40', '935041', '945141', '955242', '965343', '975343', '985444', '995545', '9a5646', '9b5746', '9c5847', '9d5948', '9e5a49', '9f5a49', 'a05b4a', 'a15c4b', 'a35d4b', 'a45e4c', 'a55f4d', 'a6604e', 'a7614e', 'a8624f', 'a96350', 'aa6451', 'ab6552', 'ac6552', 'ad6653', 'ae6754', 'af6855', 'b06955', 'b16a56', 'b26b57', 'b36c58', 'b46d59', 'b56e59', 'b66f5a', 'b7705b', 'b8715c', 'b9725d', 'ba735d', 'bb745e', 'bc755f', 'bd7660', 'be7761', 'bf7862', 'c07962', 'c17a63', 'c27b64', 'c27c65', 'c37d66', 'c47e67', 'c57f68', 'c68068', 'c78169', 'c8826a', 'c9836b', 'ca846c', 'cb856d', 'cc866e', 'cd876f', 'ce886f', 'ce8970', 'cf8a71', 'd08b72', 'd18c73', 'd28d74', 'd38e75', 'd48f76', 'd59077', 'd59178', 'd69279', 'd7937a', 'd8957b', 'd9967b', 'da977c', 'da987d', 'db997e', 'dc9a7f', 'dd9b80', 'de9c81', 'de9d82', 'df9e83', 'e09f84', 'e1a185', 'e2a286', 'e2a387', 'e3a488', 'e4a589', 'e5a68a', 'e5a78b', 'e6a88c', 'e7aa8d', 'e7ab8e', 'e8ac8f', 'e9ad90', 'eaae91', 'eaaf92', 'ebb093', 'ecb295', 'ecb396', 'edb497', 'eeb598', 'eeb699', 'efb79a', 'efb99b', 'f0ba9c', 'f1bb9d', 'f1bc9e', 'f2bd9f', 'f2bfa1', 'f3c0a2', 'f3c1a3', 'f4c2a4', 'f5c3a5', 'f5c5a6', 'f6c6a7', 'f6c7a8', 'f7c8aa', 'f7c9ab', 'f8cbac', 'f8ccad', 'f8cdae', 'f9ceb0', 'f9d0b1', 'fad1b2', 'fad2b3', 'fbd3b4', 'fbd5b6', 'fbd6b7', 'fcd7b8', 'fcd8b9', 'fcdaba', 'fddbbc', 'fddcbd', 'fddebe', 'fddfbf', 'fee0c1', 'fee1c2', 'fee3c3', 'fee4c5', 'ffe5c6', 'ffe7c7', 'ffe8c9', 'ffe9ca', 'ffebcb', 'ffeccd', 'ffedce', 'ffefcf', 'fff0d1', 'fff2d2', 'fff3d3', 'fff4d5', 'fff6d6', 'fff7d8', 'fff8d9', 'fffada', 'fffbdc', 'fffcdd', 'fffedf', 'ffffe0')\n",
    "my_colormap_vals_dec = np.array([int(element,base=16) for element in my_colormap_vals_hex])\n",
    "r = np.floor(my_colormap_vals_dec/(256*256))\n",
    "g = np.floor((my_colormap_vals_dec - r *256 *256)/256)\n",
    "b = np.floor(my_colormap_vals_dec - r * 256 *256 - g * 256)\n",
    "my_colormap = ListedColormap(np.vstack((r,g,b)).transpose()/255.0)\n",
    "\n",
    "def draw_2D_heatmap(data, title, my_colormap):\n",
    "  # Make grid of intercept/slope values to plot\n",
    "  xv, yv = np.meshgrid(np.linspace(0, 1, 10), np.linspace(0, 1, 10))\n",
    "  fig,ax = plt.subplots()\n",
    "  fig.set_size_inches(4,4)\n",
    "  plt.imshow(data, cmap=my_colormap)\n",
    "  ax.set_title(title)\n",
    "  ax.set_xlabel('q')\n",
    "  ax.set_ylabel('p')\n",
    "  plt.show()"
   ]
  },
  {
   "cell_type": "code",
   "execution_count": null,
   "metadata": {},
   "outputs": [],
   "source": [
    "draw_2D_heatmap(dist_mat,r'Distance |i-j|', my_colormap)"
   ]
  },
  {
   "cell_type": "code",
   "execution_count": null,
   "metadata": {},
   "outputs": [],
   "source": [
    "# Define b to be the verticalconcatenation of p and q\n",
    "b = np.hstack((p,q))[np.newaxis].transpose()\n",
    "     \n",
    "\n",
    "# TODO:  Now construct the matrix A that has the initial distribution constraints\n",
    "# so that A @ TPFlat=b where TPFlat is the transport plan TP vectorized rows first so TPFlat = np.flatten(TP)\n",
    "# Replace this line:\n",
    "A = np.zeros((20,100))"
   ]
  },
  {
   "cell_type": "code",
   "execution_count": null,
   "metadata": {},
   "outputs": [],
   "source": [
    "# We don't need the constraint that p>0 as this is the default\n",
    "opt = linprog(c, A_eq=A, b_eq=b)\n",
    "print(opt)\n",
    "     "
   ]
  },
  {
   "cell_type": "code",
   "execution_count": null,
   "metadata": {},
   "outputs": [],
   "source": [
    "# extract the answer and display\n",
    "TP = np.array(opt.x).reshape(10,10)\n",
    "draw_2D_heatmap(TP,r'Transport plan P', my_colormap)"
   ]
  },
  {
   "cell_type": "code",
   "execution_count": null,
   "metadata": {},
   "outputs": [],
   "source": [
    "# compute the wasserstein distance\n",
    "was = np.sum(TP * dist_mat)\n",
    "print(\"Your Wasserstein distance = \", was)\n",
    "print(\"Correct answer =  0.15148578811369506\")"
   ]
  },
  {
   "cell_type": "code",
   "execution_count": null,
   "metadata": {},
   "outputs": [],
   "source": [
    "\"\"\"  \n",
    "Compute the \n",
    "1. Forward KL divergence $D_{KL}[p, q]$ between these distribution\n",
    "2. Reverse KL divergence $D_{KL}[q, p]$ between these distribution\n",
    "3. Jensen-Shannon divergence $D_{JS} [p, q]$ between these distribution\n",
    "\n",
    "\"\"\""
   ]
  }
 ],
 "metadata": {
  "kernelspec": {
   "display_name": "mne",
   "language": "python",
   "name": "python3"
  },
  "language_info": {
   "codemirror_mode": {
    "name": "ipython",
    "version": 3
   },
   "file_extension": ".py",
   "mimetype": "text/x-python",
   "name": "python",
   "nbconvert_exporter": "python",
   "pygments_lexer": "ipython3",
   "version": "3.9.4"
  }
 },
 "nbformat": 4,
 "nbformat_minor": 2
}

{
 "cells": [
  {
   "cell_type": "markdown",
   "metadata": {},
   "source": [
    "# Lab-50 : Learning from Data and it's Generalization"
   ]
  },
  {
   "cell_type": "markdown",
   "metadata": {},
   "source": [
    "### 50.1 Linear Regression\n",
    "\n",
    "Consider a mapping to be the linear model \n",
    "$$\\begin{equation}Y = F(X, \\Theta) = X^{T} W + b\\end{equation}$$\n",
    "where $X \\in R^d$ is the input data, $Y \\in R$ output data and $\\Theta = \\{W, b\\} \\in R^d$ is the parameters of the model.\n",
    "\n",
    "In Practice we affine the our linear model by $X \\to [1, X^T]^T$ where extra column with entries 1 controls the bias parameters of the model then our model become $$\\begin{equation}Y = F(X, W) = X^TW\\end{equation}$$\n",
    "\n"
   ]
  },
  {
   "cell_type": "markdown",
   "metadata": {},
   "source": []
  }
 ],
 "metadata": {
  "language_info": {
   "name": "python"
  }
 },
 "nbformat": 4,
 "nbformat_minor": 2
}

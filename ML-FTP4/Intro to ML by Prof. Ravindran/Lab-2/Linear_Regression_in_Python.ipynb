{
  "nbformat": 4,
  "nbformat_minor": 0,
  "metadata": {
    "colab": {
      "provenance": []
    },
    "kernelspec": {
      "name": "python3",
      "display_name": "Python 3"
    },
    "language_info": {
      "name": "python"
    }
  },
  "cells": [
    {
      "cell_type": "markdown",
      "source": [
        "**Linear regression is one of the easiest and most popular Machine Learning algorithms. It is a statistical method that is used for predictive analysis.**"
      ],
      "metadata": {
        "id": "BUX0IQP5Wiui"
      }
    },
    {
      "cell_type": "markdown",
      "source": [
        "There are five basic steps when you’re implementing linear regression:\n",
        "\n",
        "1) Import the packages and classes that you need.\n",
        "2) Provide data to work with, and eventually do appropriate transformations.\n",
        "3) Create a regression model and fit it with existing data.\n",
        "4) Check the results of model fitting to know whether the model is satisfactory.\n",
        "5) Apply the model for predictions.\n",
        "These steps are more or less general for most of the regression approaches and implementations."
      ],
      "metadata": {
        "id": "nnXJ3yVjjouo"
      }
    },
    {
      "cell_type": "markdown",
      "source": [
        "**Step 1: Import packages and classes**\n",
        "\n",
        "The first step is to import the package numpy and the class LinearRegression from sklearn.linear_model:"
      ],
      "metadata": {
        "id": "R26KcAEbkC0C"
      }
    },
    {
      "cell_type": "code",
      "execution_count": null,
      "metadata": {
        "id": "_WXDjGZCWDFk"
      },
      "outputs": [],
      "source": [
        "import numpy as np\n",
        "from sklearn.linear_model import LinearRegression"
      ]
    },
    {
      "cell_type": "markdown",
      "source": [
        "**Step 2: Provide data**\n",
        "\n",
        "The second step is defining data to work with. The inputs (regressors, 𝑥) and output (response, 𝑦) should be arrays or similar objects. This is the simplest way of providing data for regression:"
      ],
      "metadata": {
        "id": "cIG-IXZakehH"
      }
    },
    {
      "cell_type": "code",
      "source": [
        " x = np.array([5, 15, 25, 35, 45, 55]).reshape((-1, 1))\n",
        " y = np.array([5, 20, 14, 32, 22, 38])\n",
        " print(x)\n",
        "\n",
        " print(y)"
      ],
      "metadata": {
        "id": "NSgyaPHPkSr_",
        "colab": {
          "base_uri": "https://localhost:8080/"
        },
        "outputId": "bdc1c7cc-689f-4282-b28a-e4f742761623"
      },
      "execution_count": null,
      "outputs": [
        {
          "output_type": "stream",
          "name": "stdout",
          "text": [
            "[[ 5]\n",
            " [15]\n",
            " [25]\n",
            " [35]\n",
            " [45]\n",
            " [55]]\n",
            "[ 5 20 14 32 22 38]\n"
          ]
        }
      ]
    },
    {
      "cell_type": "markdown",
      "source": [
        "**Step 3: Create a model and fit it**\n",
        "\n",
        "The next step is to create a linear regression model and fit it using the existing data.\n",
        "\n",
        "Create an instance of the class LinearRegression, which will represent the regression model:"
      ],
      "metadata": {
        "id": "wFhJikZPl7fR"
      }
    },
    {
      "cell_type": "code",
      "source": [
        "model = LinearRegression().fit(x, y)"
      ],
      "metadata": {
        "id": "-hoNip19klJX"
      },
      "execution_count": null,
      "outputs": []
    },
    {
      "cell_type": "markdown",
      "source": [
        "**Step 4: Get results**\n",
        "\n",
        "Once the model is fitted, we can get the results to check whether the model works satisfactorily and to interpret it."
      ],
      "metadata": {
        "id": "_eRTTlb9mtS0"
      }
    },
    {
      "cell_type": "code",
      "source": [
        "r_sq = model.score(x, y)\n",
        "print(f\"coefficient of determination: {r_sq}\")"
      ],
      "metadata": {
        "colab": {
          "base_uri": "https://localhost:8080/"
        },
        "id": "CdHWmBRkk_ZH",
        "outputId": "1ed3ab9a-3fe8-40e8-9232-a5419c203bf2"
      },
      "execution_count": null,
      "outputs": [
        {
          "output_type": "stream",
          "name": "stdout",
          "text": [
            "coefficient of determination: 0.7158756137479542\n"
          ]
        }
      ]
    },
    {
      "cell_type": "code",
      "source": [
        "print(f\"intercept: {model.intercept_}\")\n",
        "print(f\"slope: {model.coef_}\")"
      ],
      "metadata": {
        "colab": {
          "base_uri": "https://localhost:8080/"
        },
        "id": "_jUcimXym8qC",
        "outputId": "a8c50e87-8db5-4ff0-9e12-9c87e14da9a7"
      },
      "execution_count": null,
      "outputs": [
        {
          "output_type": "stream",
          "name": "stdout",
          "text": [
            "intercept: 5.633333333333329\n",
            "slope: [0.54]\n"
          ]
        }
      ]
    },
    {
      "cell_type": "markdown",
      "source": [
        "**Step 5: Predict response**\n",
        "\n",
        "Once we have a satisfactory model, then we can use it for predictions with either existing or new data. To obtain the predicted response, use .predict():"
      ],
      "metadata": {
        "id": "lZB4uIxKnVtb"
      }
    },
    {
      "cell_type": "code",
      "source": [
        "y_pred = model.predict(x)\n",
        "print(f\"predicted response:\\n{y_pred}\")"
      ],
      "metadata": {
        "colab": {
          "base_uri": "https://localhost:8080/"
        },
        "id": "OOxRfUpSnF2A",
        "outputId": "07d39303-1b5e-461c-9b2a-de16fb121976"
      },
      "execution_count": null,
      "outputs": [
        {
          "output_type": "stream",
          "name": "stdout",
          "text": [
            "predicted response:\n",
            "[ 8.33333333 13.73333333 19.13333333 24.53333333 29.93333333 35.33333333]\n"
          ]
        }
      ]
    },
    {
      "cell_type": "markdown",
      "source": [
        "To get started, let’s simulate some data and look at how the predicted values (Yₑ) differ from the actual value (Y):"
      ],
      "metadata": {
        "id": "_My5HUjNoj8u"
      }
    },
    {
      "cell_type": "code",
      "source": [
        "import pandas as pd\n",
        "import numpy as np\n",
        "from matplotlib import pyplot as plt\n",
        "\n",
        "# Generate 'random' data\n",
        "np.random.seed(0)\n",
        "X = 2.5 * np.random.randn(100) + 1.5   # Array of 100 values with mean = 1.5, stddev = 2.5\n",
        "res = 0.5 * np.random.randn(100)       # Generate 100 residual terms\n",
        "y = 2 + 0.3 * X + res                  # Actual values of Y\n",
        "\n",
        "# Create pandas dataframe to store our X and y values\n",
        "df = pd.DataFrame(\n",
        "    {'X': X,\n",
        "     'y': y}\n",
        ")\n",
        "\n",
        "# Show the first five rows of our dataframe\n",
        "df.head(10)"
      ],
      "metadata": {
        "colab": {
          "base_uri": "https://localhost:8080/",
          "height": 363
        },
        "id": "lsIeew1vn4NM",
        "outputId": "4ed5888a-709c-4723-a9b9-23e1deb69646"
      },
      "execution_count": null,
      "outputs": [
        {
          "output_type": "execute_result",
          "data": {
            "text/plain": [
              "          X         y\n",
              "0  5.910131  4.714615\n",
              "1  2.500393  2.076238\n",
              "2  3.946845  2.548811\n",
              "3  7.102233  4.615368\n",
              "4  6.168895  3.264107\n",
              "5 -0.943195  2.688852\n",
              "6  3.875221  2.955757\n",
              "7  1.121607  1.962755\n",
              "8  1.241953  3.334057\n",
              "9  2.526496  3.498206"
            ],
            "text/html": [
              "\n",
              "  <div id=\"df-80c9fec3-c56a-4f0c-bf58-bfdb0a9f2d9f\">\n",
              "    <div class=\"colab-df-container\">\n",
              "      <div>\n",
              "<style scoped>\n",
              "    .dataframe tbody tr th:only-of-type {\n",
              "        vertical-align: middle;\n",
              "    }\n",
              "\n",
              "    .dataframe tbody tr th {\n",
              "        vertical-align: top;\n",
              "    }\n",
              "\n",
              "    .dataframe thead th {\n",
              "        text-align: right;\n",
              "    }\n",
              "</style>\n",
              "<table border=\"1\" class=\"dataframe\">\n",
              "  <thead>\n",
              "    <tr style=\"text-align: right;\">\n",
              "      <th></th>\n",
              "      <th>X</th>\n",
              "      <th>y</th>\n",
              "    </tr>\n",
              "  </thead>\n",
              "  <tbody>\n",
              "    <tr>\n",
              "      <th>0</th>\n",
              "      <td>5.910131</td>\n",
              "      <td>4.714615</td>\n",
              "    </tr>\n",
              "    <tr>\n",
              "      <th>1</th>\n",
              "      <td>2.500393</td>\n",
              "      <td>2.076238</td>\n",
              "    </tr>\n",
              "    <tr>\n",
              "      <th>2</th>\n",
              "      <td>3.946845</td>\n",
              "      <td>2.548811</td>\n",
              "    </tr>\n",
              "    <tr>\n",
              "      <th>3</th>\n",
              "      <td>7.102233</td>\n",
              "      <td>4.615368</td>\n",
              "    </tr>\n",
              "    <tr>\n",
              "      <th>4</th>\n",
              "      <td>6.168895</td>\n",
              "      <td>3.264107</td>\n",
              "    </tr>\n",
              "    <tr>\n",
              "      <th>5</th>\n",
              "      <td>-0.943195</td>\n",
              "      <td>2.688852</td>\n",
              "    </tr>\n",
              "    <tr>\n",
              "      <th>6</th>\n",
              "      <td>3.875221</td>\n",
              "      <td>2.955757</td>\n",
              "    </tr>\n",
              "    <tr>\n",
              "      <th>7</th>\n",
              "      <td>1.121607</td>\n",
              "      <td>1.962755</td>\n",
              "    </tr>\n",
              "    <tr>\n",
              "      <th>8</th>\n",
              "      <td>1.241953</td>\n",
              "      <td>3.334057</td>\n",
              "    </tr>\n",
              "    <tr>\n",
              "      <th>9</th>\n",
              "      <td>2.526496</td>\n",
              "      <td>3.498206</td>\n",
              "    </tr>\n",
              "  </tbody>\n",
              "</table>\n",
              "</div>\n",
              "      <button class=\"colab-df-convert\" onclick=\"convertToInteractive('df-80c9fec3-c56a-4f0c-bf58-bfdb0a9f2d9f')\"\n",
              "              title=\"Convert this dataframe to an interactive table.\"\n",
              "              style=\"display:none;\">\n",
              "        \n",
              "  <svg xmlns=\"http://www.w3.org/2000/svg\" height=\"24px\"viewBox=\"0 0 24 24\"\n",
              "       width=\"24px\">\n",
              "    <path d=\"M0 0h24v24H0V0z\" fill=\"none\"/>\n",
              "    <path d=\"M18.56 5.44l.94 2.06.94-2.06 2.06-.94-2.06-.94-.94-2.06-.94 2.06-2.06.94zm-11 1L8.5 8.5l.94-2.06 2.06-.94-2.06-.94L8.5 2.5l-.94 2.06-2.06.94zm10 10l.94 2.06.94-2.06 2.06-.94-2.06-.94-.94-2.06-.94 2.06-2.06.94z\"/><path d=\"M17.41 7.96l-1.37-1.37c-.4-.4-.92-.59-1.43-.59-.52 0-1.04.2-1.43.59L10.3 9.45l-7.72 7.72c-.78.78-.78 2.05 0 2.83L4 21.41c.39.39.9.59 1.41.59.51 0 1.02-.2 1.41-.59l7.78-7.78 2.81-2.81c.8-.78.8-2.07 0-2.86zM5.41 20L4 18.59l7.72-7.72 1.47 1.35L5.41 20z\"/>\n",
              "  </svg>\n",
              "      </button>\n",
              "      \n",
              "  <style>\n",
              "    .colab-df-container {\n",
              "      display:flex;\n",
              "      flex-wrap:wrap;\n",
              "      gap: 12px;\n",
              "    }\n",
              "\n",
              "    .colab-df-convert {\n",
              "      background-color: #E8F0FE;\n",
              "      border: none;\n",
              "      border-radius: 50%;\n",
              "      cursor: pointer;\n",
              "      display: none;\n",
              "      fill: #1967D2;\n",
              "      height: 32px;\n",
              "      padding: 0 0 0 0;\n",
              "      width: 32px;\n",
              "    }\n",
              "\n",
              "    .colab-df-convert:hover {\n",
              "      background-color: #E2EBFA;\n",
              "      box-shadow: 0px 1px 2px rgba(60, 64, 67, 0.3), 0px 1px 3px 1px rgba(60, 64, 67, 0.15);\n",
              "      fill: #174EA6;\n",
              "    }\n",
              "\n",
              "    [theme=dark] .colab-df-convert {\n",
              "      background-color: #3B4455;\n",
              "      fill: #D2E3FC;\n",
              "    }\n",
              "\n",
              "    [theme=dark] .colab-df-convert:hover {\n",
              "      background-color: #434B5C;\n",
              "      box-shadow: 0px 1px 3px 1px rgba(0, 0, 0, 0.15);\n",
              "      filter: drop-shadow(0px 1px 2px rgba(0, 0, 0, 0.3));\n",
              "      fill: #FFFFFF;\n",
              "    }\n",
              "  </style>\n",
              "\n",
              "      <script>\n",
              "        const buttonEl =\n",
              "          document.querySelector('#df-80c9fec3-c56a-4f0c-bf58-bfdb0a9f2d9f button.colab-df-convert');\n",
              "        buttonEl.style.display =\n",
              "          google.colab.kernel.accessAllowed ? 'block' : 'none';\n",
              "\n",
              "        async function convertToInteractive(key) {\n",
              "          const element = document.querySelector('#df-80c9fec3-c56a-4f0c-bf58-bfdb0a9f2d9f');\n",
              "          const dataTable =\n",
              "            await google.colab.kernel.invokeFunction('convertToInteractive',\n",
              "                                                     [key], {});\n",
              "          if (!dataTable) return;\n",
              "\n",
              "          const docLinkHtml = 'Like what you see? Visit the ' +\n",
              "            '<a target=\"_blank\" href=https://colab.research.google.com/notebooks/data_table.ipynb>data table notebook</a>'\n",
              "            + ' to learn more about interactive tables.';\n",
              "          element.innerHTML = '';\n",
              "          dataTable['output_type'] = 'display_data';\n",
              "          await google.colab.output.renderOutput(dataTable, element);\n",
              "          const docLink = document.createElement('div');\n",
              "          docLink.innerHTML = docLinkHtml;\n",
              "          element.appendChild(docLink);\n",
              "        }\n",
              "      </script>\n",
              "    </div>\n",
              "  </div>\n",
              "  "
            ]
          },
          "metadata": {},
          "execution_count": 18
        }
      ]
    },
    {
      "cell_type": "markdown",
      "source": [
        "There are two kinds of variables in a linear regression model:\n",
        "\n",
        "The input or predictor variable is the variable(s) that help predict the value of the output variable. It is commonly referred to as X.\n",
        "The output variable is the variable that we want to predict. It is commonly referred to as Y.\n",
        "To estimate Y using linear regression, we assume the equation:\n",
        "\n",
        "**Yₑ = α + β X**\n",
        "\n",
        "where Yₑ is the estimated or predicted value of Y based on our linear equation."
      ],
      "metadata": {
        "id": "V4mXtidBtWFi"
      }
    },
    {
      "cell_type": "markdown",
      "source": [
        "Our goal is to find statistically significant values of the parameters α and β that minimise the difference between Y and Yₑ.\n",
        "\n",
        "If we are able to determine the optimum values of these two parameters, then we will have the line of best fit that we can use to predict the values of Y, given the value of X."
      ],
      "metadata": {
        "id": "TxmHETtgtyNK"
      }
    },
    {
      "cell_type": "code",
      "source": [
        "# Calculate the mean of X and y\n",
        "xmean = np.mean(X)\n",
        "ymean = np.mean(y)\n",
        "\n",
        "# Calculate the terms needed for the numator and denominator of beta\n",
        "df['xycov'] = (df['X'] - xmean) * (df['y'] - ymean)\n",
        "df['xvar'] = (df['X'] - xmean)**2\n",
        "\n",
        "# Calculate beta and alpha\n",
        "beta = df['xycov'].sum() / df['xvar'].sum()\n",
        "alpha = ymean - (beta * xmean)\n",
        "print(f'alpha = {alpha}')\n",
        "print(f'beta = {beta}')"
      ],
      "metadata": {
        "id": "1mQnFRi8omUl",
        "colab": {
          "base_uri": "https://localhost:8080/"
        },
        "outputId": "31a36274-6648-4264-f165-8c32dac4b23b"
      },
      "execution_count": null,
      "outputs": [
        {
          "output_type": "stream",
          "name": "stdout",
          "text": [
            "alpha = 2.0031670124623426\n",
            "beta = 0.3229396867092763\n"
          ]
        }
      ]
    },
    {
      "cell_type": "code",
      "source": [
        "ypred = alpha + beta * X"
      ],
      "metadata": {
        "id": "a0DyNFc8t8QY"
      },
      "execution_count": null,
      "outputs": []
    },
    {
      "cell_type": "code",
      "source": [
        "print(ypred)"
      ],
      "metadata": {
        "colab": {
          "base_uri": "https://localhost:8080/"
        },
        "id": "wIwwZPLRrk21",
        "outputId": "9692dac9-3e58-4ac9-e853-1a3774b82fd4"
      },
      "execution_count": null,
      "outputs": [
        {
          "output_type": "stream",
          "name": "stdout",
          "text": [
            "[3.91178282 2.81064315 3.27775989 4.29675991 3.99534802 1.69857201\n",
            " 3.25462968 2.36537842 2.40424288 2.81907292 2.60387001 3.66168312\n",
            " 3.10199975 2.58581077 2.84592918 2.75696825 3.69382011 2.32194218\n",
            " 2.74033151 1.79802302 0.42642221 3.015275   3.18547843 1.88839019\n",
            " 4.32006116 1.31339555 2.52451965 2.33645381 3.72506464 3.67386219\n",
            " 2.61267323 2.79288576 1.77082341 0.88838207 2.20668994 2.61380476\n",
            " 3.48085076 3.45831697 2.17486854 2.24351265 1.64102813 1.34112617\n",
            " 1.11002064 4.06253353 2.07610925 2.1338976  1.47613319 3.11528277\n",
            " 1.18459738 2.31582084 1.76462232 2.79994197 2.07517841 1.53439407\n",
            " 2.46482364 2.83338994 2.54127917 2.73177699 1.9754571  2.19471775\n",
            " 1.94466613 2.19729158 1.83108353 1.09386364 2.6308214  2.16319902\n",
            " 1.17143718 2.86120343 1.75506992 2.52951462 3.07620724 2.59171079\n",
            " 3.40747079 1.49064088 2.81240675 1.93469565 1.78453915 2.02024272\n",
            " 2.23604485 2.53292159 1.54689373 3.2148581  2.86352875 1.24729141\n",
            " 3.68911579 4.01822118 3.43926331 2.34231437 1.62310525 3.33888732\n",
            " 2.16207195 3.47451661 2.65572718 3.2760653  2.77528867 3.05802784\n",
            " 2.49605373 3.92939769 2.59003892 2.81212234]\n"
          ]
        }
      ]
    },
    {
      "cell_type": "markdown",
      "source": [
        "Let’s plot our prediction ypred against the actual values of y, to get a better visual understanding of our model.\n",
        "\n"
      ],
      "metadata": {
        "id": "18JuYGhOuW5f"
      }
    },
    {
      "cell_type": "code",
      "source": [
        "# Plot regression against actual data\n",
        "plt.figure(figsize=(12, 6))\n",
        "plt.plot(X, ypred)     # regression line\n",
        "plt.plot(X, y, 'ro')   # scatter plot showing actual data\n",
        "plt.title('Actual vs Predicted')\n",
        "plt.xlabel('X')\n",
        "plt.ylabel('y')\n",
        "\n",
        "plt.show()"
      ],
      "metadata": {
        "colab": {
          "base_uri": "https://localhost:8080/",
          "height": 404
        },
        "id": "YbZi1XaZuSKo",
        "outputId": "7f4686a9-72ef-42a1-bb9b-8633305e30fe"
      },
      "execution_count": null,
      "outputs": [
        {
          "output_type": "display_data",
          "data": {
            "text/plain": [
              "<Figure size 864x432 with 1 Axes>"
            ],
            "image/png": "[encoded data removed]"
          },
          "metadata": {
            "needs_background": "light"
          }
        }
      ]
    },
    {
      "cell_type": "markdown",
      "source": [
        "**Linear Regression with statsmodels**"
      ],
      "metadata": {
        "id": "q1zB9sdXKybR"
      }
    },
    {
      "cell_type": "code",
      "source": [
        "# Import and display first five rows of advertising dataset\n",
        "advert = pd.read_csv('/content/drive/MyDrive/advertising.csv')\n",
        "advert.head(10)"
      ],
      "metadata": {
        "colab": {
          "base_uri": "https://localhost:8080/",
          "height": 363
        },
        "id": "M4Y-xepJua-r",
        "outputId": "73ac3b7d-636c-4c60-b0a2-e8a5331ac3e5"
      },
      "execution_count": null,
      "outputs": [
        {
          "output_type": "execute_result",
          "data": {
            "text/plain": [
              "      TV  Radio  Newspaper  Sales\n",
              "0  230.1   37.8       69.2   22.1\n",
              "1   44.5   39.3       45.1   10.4\n",
              "2   17.2   45.9       69.3   12.0\n",
              "3  151.5   41.3       58.5   16.5\n",
              "4  180.8   10.8       58.4   17.9\n",
              "5    8.7   48.9       75.0    7.2\n",
              "6   57.5   32.8       23.5   11.8\n",
              "7  120.2   19.6       11.6   13.2\n",
              "8    8.6    2.1        1.0    4.8\n",
              "9  199.8    2.6       21.2   15.6"
            ],
            "text/html": [
              "\n",
              "  <div id=\"df-de2540fb-31f4-4044-918f-6f5331648158\">\n",
              "    <div class=\"colab-df-container\">\n",
              "      <div>\n",
              "<style scoped>\n",
              "    .dataframe tbody tr th:only-of-type {\n",
              "        vertical-align: middle;\n",
              "    }\n",
              "\n",
              "    .dataframe tbody tr th {\n",
              "        vertical-align: top;\n",
              "    }\n",
              "\n",
              "    .dataframe thead th {\n",
              "        text-align: right;\n",
              "    }\n",
              "</style>\n",
              "<table border=\"1\" class=\"dataframe\">\n",
              "  <thead>\n",
              "    <tr style=\"text-align: right;\">\n",
              "      <th></th>\n",
              "      <th>TV</th>\n",
              "      <th>Radio</th>\n",
              "      <th>Newspaper</th>\n",
              "      <th>Sales</th>\n",
              "    </tr>\n",
              "  </thead>\n",
              "  <tbody>\n",
              "    <tr>\n",
              "      <th>0</th>\n",
              "      <td>230.1</td>\n",
              "      <td>37.8</td>\n",
              "      <td>69.2</td>\n",
              "      <td>22.1</td>\n",
              "    </tr>\n",
              "    <tr>\n",
              "      <th>1</th>\n",
              "      <td>44.5</td>\n",
              "      <td>39.3</td>\n",
              "      <td>45.1</td>\n",
              "      <td>10.4</td>\n",
              "    </tr>\n",
              "    <tr>\n",
              "      <th>2</th>\n",
              "      <td>17.2</td>\n",
              "      <td>45.9</td>\n",
              "      <td>69.3</td>\n",
              "      <td>12.0</td>\n",
              "    </tr>\n",
              "    <tr>\n",
              "      <th>3</th>\n",
              "      <td>151.5</td>\n",
              "      <td>41.3</td>\n",
              "      <td>58.5</td>\n",
              "      <td>16.5</td>\n",
              "    </tr>\n",
              "    <tr>\n",
              "      <th>4</th>\n",
              "      <td>180.8</td>\n",
              "      <td>10.8</td>\n",
              "      <td>58.4</td>\n",
              "      <td>17.9</td>\n",
              "    </tr>\n",
              "    <tr>\n",
              "      <th>5</th>\n",
              "      <td>8.7</td>\n",
              "      <td>48.9</td>\n",
              "      <td>75.0</td>\n",
              "      <td>7.2</td>\n",
              "    </tr>\n",
              "    <tr>\n",
              "      <th>6</th>\n",
              "      <td>57.5</td>\n",
              "      <td>32.8</td>\n",
              "      <td>23.5</td>\n",
              "      <td>11.8</td>\n",
              "    </tr>\n",
              "    <tr>\n",
              "      <th>7</th>\n",
              "      <td>120.2</td>\n",
              "      <td>19.6</td>\n",
              "      <td>11.6</td>\n",
              "      <td>13.2</td>\n",
              "    </tr>\n",
              "    <tr>\n",
              "      <th>8</th>\n",
              "      <td>8.6</td>\n",
              "      <td>2.1</td>\n",
              "      <td>1.0</td>\n",
              "      <td>4.8</td>\n",
              "    </tr>\n",
              "    <tr>\n",
              "      <th>9</th>\n",
              "      <td>199.8</td>\n",
              "      <td>2.6</td>\n",
              "      <td>21.2</td>\n",
              "      <td>15.6</td>\n",
              "    </tr>\n",
              "  </tbody>\n",
              "</table>\n",
              "</div>\n",
              "      <button class=\"colab-df-convert\" onclick=\"convertToInteractive('df-de2540fb-31f4-4044-918f-6f5331648158')\"\n",
              "              title=\"Convert this dataframe to an interactive table.\"\n",
              "              style=\"display:none;\">\n",
              "        \n",
              "  <svg xmlns=\"http://www.w3.org/2000/svg\" height=\"24px\"viewBox=\"0 0 24 24\"\n",
              "       width=\"24px\">\n",
              "    <path d=\"M0 0h24v24H0V0z\" fill=\"none\"/>\n",
              "    <path d=\"M18.56 5.44l.94 2.06.94-2.06 2.06-.94-2.06-.94-.94-2.06-.94 2.06-2.06.94zm-11 1L8.5 8.5l.94-2.06 2.06-.94-2.06-.94L8.5 2.5l-.94 2.06-2.06.94zm10 10l.94 2.06.94-2.06 2.06-.94-2.06-.94-.94-2.06-.94 2.06-2.06.94z\"/><path d=\"M17.41 7.96l-1.37-1.37c-.4-.4-.92-.59-1.43-.59-.52 0-1.04.2-1.43.59L10.3 9.45l-7.72 7.72c-.78.78-.78 2.05 0 2.83L4 21.41c.39.39.9.59 1.41.59.51 0 1.02-.2 1.41-.59l7.78-7.78 2.81-2.81c.8-.78.8-2.07 0-2.86zM5.41 20L4 18.59l7.72-7.72 1.47 1.35L5.41 20z\"/>\n",
              "  </svg>\n",
              "      </button>\n",
              "      \n",
              "  <style>\n",
              "    .colab-df-container {\n",
              "      display:flex;\n",
              "      flex-wrap:wrap;\n",
              "      gap: 12px;\n",
              "    }\n",
              "\n",
              "    .colab-df-convert {\n",
              "      background-color: #E8F0FE;\n",
              "      border: none;\n",
              "      border-radius: 50%;\n",
              "      cursor: pointer;\n",
              "      display: none;\n",
              "      fill: #1967D2;\n",
              "      height: 32px;\n",
              "      padding: 0 0 0 0;\n",
              "      width: 32px;\n",
              "    }\n",
              "\n",
              "    .colab-df-convert:hover {\n",
              "      background-color: #E2EBFA;\n",
              "      box-shadow: 0px 1px 2px rgba(60, 64, 67, 0.3), 0px 1px 3px 1px rgba(60, 64, 67, 0.15);\n",
              "      fill: #174EA6;\n",
              "    }\n",
              "\n",
              "    [theme=dark] .colab-df-convert {\n",
              "      background-color: #3B4455;\n",
              "      fill: #D2E3FC;\n",
              "    }\n",
              "\n",
              "    [theme=dark] .colab-df-convert:hover {\n",
              "      background-color: #434B5C;\n",
              "      box-shadow: 0px 1px 3px 1px rgba(0, 0, 0, 0.15);\n",
              "      filter: drop-shadow(0px 1px 2px rgba(0, 0, 0, 0.3));\n",
              "      fill: #FFFFFF;\n",
              "    }\n",
              "  </style>\n",
              "\n",
              "      <script>\n",
              "        const buttonEl =\n",
              "          document.querySelector('#df-de2540fb-31f4-4044-918f-6f5331648158 button.colab-df-convert');\n",
              "        buttonEl.style.display =\n",
              "          google.colab.kernel.accessAllowed ? 'block' : 'none';\n",
              "\n",
              "        async function convertToInteractive(key) {\n",
              "          const element = document.querySelector('#df-de2540fb-31f4-4044-918f-6f5331648158');\n",
              "          const dataTable =\n",
              "            await google.colab.kernel.invokeFunction('convertToInteractive',\n",
              "                                                     [key], {});\n",
              "          if (!dataTable) return;\n",
              "\n",
              "          const docLinkHtml = 'Like what you see? Visit the ' +\n",
              "            '<a target=\"_blank\" href=https://colab.research.google.com/notebooks/data_table.ipynb>data table notebook</a>'\n",
              "            + ' to learn more about interactive tables.';\n",
              "          element.innerHTML = '';\n",
              "          dataTable['output_type'] = 'display_data';\n",
              "          await google.colab.output.renderOutput(dataTable, element);\n",
              "          const docLink = document.createElement('div');\n",
              "          docLink.innerHTML = docLinkHtml;\n",
              "          element.appendChild(docLink);\n",
              "        }\n",
              "      </script>\n",
              "    </div>\n",
              "  </div>\n",
              "  "
            ]
          },
          "metadata": {},
          "execution_count": 23
        }
      ]
    },
    {
      "cell_type": "code",
      "source": [
        "import statsmodels.formula.api as smf\n",
        "\n",
        "# Initialise and fit linear regression model using `statsmodels`\n",
        "model = smf.ols('Sales ~ TV', data=advert)\n",
        "model = model.fit()"
      ],
      "metadata": {
        "colab": {
          "base_uri": "https://localhost:8080/"
        },
        "id": "7aBKimfbKP4I",
        "outputId": "4e1ae868-fee7-499d-87d8-ed29de1f7c85"
      },
      "execution_count": null,
      "outputs": [
        {
          "output_type": "stream",
          "name": "stderr",
          "text": [
            "/usr/local/lib/python3.7/dist-packages/statsmodels/tools/_testing.py:19: FutureWarning: pandas.util.testing is deprecated. Use the functions in the public API at pandas.testing instead.\n",
            "  import pandas.util.testing as tm\n"
          ]
        }
      ]
    },
    {
      "cell_type": "code",
      "source": [
        "# Predict values\n",
        "sales_pred = model.predict()\n",
        "\n",
        "# Plot regression against actual data\n",
        "plt.figure(figsize=(12, 6))\n",
        "plt.plot(advert['TV'], advert['Sales'], 'o')           # scatter plot showing actual data\n",
        "plt.plot(advert['TV'], sales_pred, 'r', linewidth=2)   # regression line\n",
        "plt.xlabel('TV Advertising Costs')\n",
        "plt.ylabel('Sales')\n",
        "plt.title('TV vs Sales')\n",
        "\n",
        "plt.show()"
      ],
      "metadata": {
        "colab": {
          "base_uri": "https://localhost:8080/",
          "height": 404
        },
        "id": "cPO_FRowKb86",
        "outputId": "8f36c4b2-66cd-4639-cf7b-3fc076e162a3"
      },
      "execution_count": null,
      "outputs": [
        {
          "output_type": "display_data",
          "data": {
            "text/plain": [
              "<Figure size 864x432 with 1 Axes>"
            ],
            "image/png": "[encoded data removed]"
          },
          "metadata": {
            "needs_background": "light"
          }
        }
      ]
    },
    {
      "cell_type": "code",
      "source": [
        "new_X = 500\n",
        "model.predict({\"TV\": new_X})"
      ],
      "metadata": {
        "colab": {
          "base_uri": "https://localhost:8080/"
        },
        "id": "IixTNzoYKhtU",
        "outputId": "b8902b01-8de1-4f3e-c7c9-b1f7874a2b60"
      },
      "execution_count": null,
      "outputs": [
        {
          "output_type": "execute_result",
          "data": {
            "text/plain": [
              "0    34.707207\n",
              "dtype: float64"
            ]
          },
          "metadata": {},
          "execution_count": 27
        }
      ]
    },
    {
      "cell_type": "markdown",
      "source": [
        "**Linear Regression with scikit-learn**"
      ],
      "metadata": {
        "id": "iNSOwwp2KrBY"
      }
    },
    {
      "cell_type": "code",
      "source": [
        "\n",
        "from sklearn.linear_model import LinearRegression\n",
        "\n",
        "# Build linear regression model using TV and Radio as predictors\n",
        "# Split data into predictors X and output Y\n",
        "predictors = ['TV', 'Radio']\n",
        "X = advert[predictors]\n",
        "y = advert['Sales']\n",
        "\n",
        "# Initialise and fit model\n",
        "lm = LinearRegression()\n",
        "model = lm.fit(X, y)"
      ],
      "metadata": {
        "id": "xKnO-1ggKlid"
      },
      "execution_count": null,
      "outputs": []
    },
    {
      "cell_type": "code",
      "source": [
        "print(f'alpha = {model.intercept_}')\n",
        "print(f'betas = {model.coef_}')"
      ],
      "metadata": {
        "colab": {
          "base_uri": "https://localhost:8080/"
        },
        "id": "s9iQTqD3K5ct",
        "outputId": "f6f71e04-4be9-4706-e049-77884af52b51"
      },
      "execution_count": null,
      "outputs": [
        {
          "output_type": "stream",
          "name": "stdout",
          "text": [
            "alpha = 4.630879464097768\n",
            "betas = [0.05444896 0.10717457]\n"
          ]
        }
      ]
    },
    {
      "cell_type": "code",
      "source": [
        "model.predict(X)"
      ],
      "metadata": {
        "colab": {
          "base_uri": "https://localhost:8080/"
        },
        "id": "loyK3MnuK86o",
        "outputId": "61802e36-1acd-4f8c-e778-a01bbf355ab2"
      },
      "execution_count": null,
      "outputs": [
        {
          "output_type": "execute_result",
          "data": {
            "text/plain": [
              "array([21.21078412, 11.26581887, 10.48671441, 17.30620681, 15.63273693,\n",
              "       10.34542196, 11.27702065, 13.27626614,  5.32420713, 15.7884357 ,\n",
              "        8.85156828, 18.89326105,  9.68859218, 10.75417988, 19.26995575,\n",
              "       20.38243344, 12.24510831, 24.19693004, 10.59582626, 15.21268363,\n",
              "       19.49126811, 18.10365306,  7.05368143, 18.87282745,  9.37344932,\n",
              "       19.32062224, 15.55185089, 19.49389028, 21.08221178, 10.18976923,\n",
              "       23.61202043, 12.64300467, 10.0840803 , 21.23601486,  9.99168941,\n",
              "       20.89860809, 23.85755331, 13.99264065,  9.83919073, 21.08572385,\n",
              "       18.04678695, 17.8479762 , 23.58582996, 16.79663584,  8.75193486,\n",
              "       16.57632034, 10.5759795 , 22.14092985, 18.69504157,  9.52745742,\n",
              "       15.84202299, 11.12643101, 20.88281419, 19.52472489, 22.0212491 ,\n",
              "       20.75520158,  8.03996233, 14.10457969, 21.42457912, 19.26492534,\n",
              "        7.75824801, 23.4347471 , 19.32172162, 13.39515504, 16.35620987,\n",
              "        9.38458127,  8.98251618, 13.76965098, 20.50436345, 21.14037783,\n",
              "       18.75120943, 12.14197172,  9.62687247, 12.28747004, 18.88678214,\n",
              "       10.23459567,  6.2997052 , 14.24645452,  8.12942354, 11.77220311,\n",
              "       11.65234112, 18.12715599, 10.90653001, 13.1244568 , 20.86423915,\n",
              "       17.12243079, 11.73263588, 15.00966701, 12.17167427, 15.73231986,\n",
              "       12.46853029,  6.3488816 , 20.07476636, 22.20399557, 11.97914185,\n",
              "       16.90911121, 15.7651051 , 16.9491583 , 24.93822776, 16.46155858,\n",
              "       17.20117899, 24.65998836, 20.96994143, 16.70524181, 21.27670971,\n",
              "       17.11229126,  7.17102377,  9.58521789,  5.38703068, 21.42014   ,\n",
              "       17.80428628, 21.86382698, 15.84805026, 18.2511778 , 13.90455813,\n",
              "       12.47110641, 13.74277117,  8.87651972, 15.42985551,  7.40198244,\n",
              "       15.19679613,  7.98020812, 17.08466564, 15.0417867 , 20.58865461,\n",
              "       10.64348878,  9.22467218,  8.99768611, 21.87753951,  9.16213238,\n",
              "        8.91310676, 19.38155011,  8.00339907, 20.18910917, 10.77698457,\n",
              "       12.29796912, 10.20458114, 22.63090513,  9.74800617, 19.40345598,\n",
              "       10.44940089, 18.97162298, 20.19507107, 10.93713581, 11.45505314,\n",
              "       12.47370034, 18.48644931, 23.12442071, 11.0190752 ,  9.82985195,\n",
              "       21.40442928, 12.11947011, 17.88716162, 18.21281692, 17.11777774,\n",
              "        6.09734523, 14.40573073, 12.92666072,  9.22267399, 13.7738197 ,\n",
              "       15.96318493, 13.13400505, 16.82892341, 17.47730877, 12.58776386,\n",
              "       17.7635543 ,  9.63527974, 16.44823231, 18.88850549, 21.24676946,\n",
              "        8.59655253, 15.82768205,  7.85228798, 14.56102391, 17.10472187,\n",
              "       24.94863323, 21.39267336, 14.73405424, 19.94340841, 14.71937307,\n",
              "       13.4362406 , 17.10672007,  8.30180611, 24.89890714, 20.73284407,\n",
              "       20.62648958, 12.45157609, 18.11198606, 21.69300877,  6.94588734,\n",
              "       11.18648829,  9.89926137,  6.00681733, 18.21429811, 16.59730363,\n",
              "        7.10737568, 10.28512696, 15.26506903, 24.57393672, 18.19018456])"
            ]
          },
          "metadata": {},
          "execution_count": 30
        }
      ]
    },
    {
      "cell_type": "code",
      "source": [
        "new_X = [[300, 200]]\n",
        "print(model.predict(new_X))"
      ],
      "metadata": {
        "colab": {
          "base_uri": "https://localhost:8080/"
        },
        "id": "0zFftp09LAuf",
        "outputId": "e2ca0f9d-366c-4def-f917-eef6f9c008e4"
      },
      "execution_count": null,
      "outputs": [
        {
          "output_type": "stream",
          "name": "stdout",
          "text": [
            "[42.40048195]\n"
          ]
        },
        {
          "output_type": "stream",
          "name": "stderr",
          "text": [
            "/usr/local/lib/python3.7/dist-packages/sklearn/base.py:451: UserWarning: X does not have valid feature names, but LinearRegression was fitted with feature names\n",
            "  \"X does not have valid feature names, but\"\n"
          ]
        }
      ]
    },
    {
      "cell_type": "code",
      "source": [],
      "metadata": {
        "id": "K9bx3WFmLFJi"
      },
      "execution_count": null,
      "outputs": []
    }
  ]
}
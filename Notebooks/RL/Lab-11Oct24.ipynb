{
 "cells": [
  {
   "cell_type": "markdown",
   "metadata": {},
   "source": [
    "# Methods for solving MDPs\n",
    "1. Q-learning \n",
    "2. Double Q-learning\n",
    "3. SARSA\n",
    "4. RL Problems\n",
    "   - CliffWalking\n",
    "   - Taxi-Q-learning\n",
    "   - Taxi-SARSA\n",
    "   - Windy Gridworld"
   ]
  },
  {
   "cell_type": "markdown",
   "metadata": {},
   "source": []
  }
 ],
 "metadata": {
  "language_info": {
   "name": "python"
  }
 },
 "nbformat": 4,
 "nbformat_minor": 2
}

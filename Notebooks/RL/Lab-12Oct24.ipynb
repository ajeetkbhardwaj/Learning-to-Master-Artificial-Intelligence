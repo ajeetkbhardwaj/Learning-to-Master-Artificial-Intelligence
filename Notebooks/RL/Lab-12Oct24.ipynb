{
 "cells": [
  {
   "cell_type": "markdown",
   "metadata": {},
   "source": [
    "# Solving Methods for MDPs\n",
    "1. What is Monte Carlo Simulation and How to perfom it for computation of the value of pi ?\n",
    "2. MC Policy Evaluation\n",
    "3. Off-Policy MC Control\n",
    "4. Off-Policy MC Control-Weighted Importance Sampling\n",
    "5. On-Policy MC Control\n",
    "6. On-Policy MC Control-epsilon greedy"
   ]
  },
  {
   "cell_type": "markdown",
   "metadata": {},
   "source": []
  }
 ],
 "metadata": {
  "language_info": {
   "name": "python"
  }
 },
 "nbformat": 4,
 "nbformat_minor": 2
}

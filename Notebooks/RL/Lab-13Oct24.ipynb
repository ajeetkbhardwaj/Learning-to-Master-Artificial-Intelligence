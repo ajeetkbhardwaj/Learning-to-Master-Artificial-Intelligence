{
 "cells": [
  {
   "cell_type": "markdown",
   "metadata": {},
   "source": [
    "# Markov Decision Processes(MDPs) - Modeling RL Problems\n",
    "1. How to create a markov chain ?\n",
    "2. How to create a markov decision processes ?\n",
    "3. RL Problems\n",
    "    - Simulating Frozenlake \n",
    "    - Coin Flipping Game\n",
    "4. Methods to solve MDPs\n",
    "   - Value Iteration\n",
    "   - Policy Iteration\n",
    "   - Policy Evaluation"
   ]
  },
  {
   "cell_type": "markdown",
   "metadata": {},
   "source": []
  }
 ],
 "metadata": {
  "language_info": {
   "name": "python"
  }
 },
 "nbformat": 4,
 "nbformat_minor": 2
}

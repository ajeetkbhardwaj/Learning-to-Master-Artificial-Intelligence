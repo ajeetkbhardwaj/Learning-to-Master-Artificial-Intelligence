{
 "cells": [
  {
   "cell_type": "markdown",
   "metadata": {},
   "source": [
    "Lab-200 - RL :"
   ]
  },
  {
   "cell_type": "code",
   "execution_count": null,
   "metadata": {},
   "outputs": [],
   "source": [
    "import random \n",
    "import os"
   ]
  },
  {
   "cell_type": "code",
   "execution_count": null,
   "metadata": {},
   "outputs": [],
   "source": [
    "# set up the random seed\n",
    "rs = 10\n",
    "random.seed(rs)\n",
    "\n",
    "# define the coins with probabilities and total tosses\n",
    "nCoin = 3\n",
    "p = [0.3, 0.5, 0.2]\n",
    "tToss = 20\n",
    "\n",
    "# \n",
    "tHeads = 0\n",
    "tossesFinished = 0\n",
    "\n",
    "# total outcomes and tosses\n",
    "outcomes = []\n",
    "tosses = []\n",
    "\n",
    "# \n",
    "for c in range(0, nCoin):\n",
    "    tosses.append(0)\n",
    "    out = []\n",
    "    for i in range(0, tToss):\n",
    "        out.append(\"-\")\n",
    "    outcomes.append(out)\n",
    "\n",
    "# \n",
    "for i in range(0, tToss):\n",
    "    for c in range(0, nCoin):\n",
    "        s = ''\n",
    "        for i in range(0, tosses[c]):\n",
    "            s = s + outcomes[c][i] + \"\"\n",
    "        print(\"Coin\" + str(c + 1) + \": \" + s)\n",
    "    print(\"Tosses left = \" + str(tToss - tossesFinished))\n",
    "    print(\"------------------------------------\")\n",
    "    coin = input(\"Enter Coin (1/2/3/...) to toss: \")\n",
    "    coin = int(coin)\n",
    "    coin -= 1\n",
    "    outcome = \"t\"\n",
    "    if(random.uniform(0, 1.0) < p[coin]):\n",
    "        outcome = \"h\"\n",
    "        tHeads += 1\n",
    "\n",
    "    outcomes[coin][tosses[coin]] = outcome\n",
    "    tosses[coin] += 1\n",
    "    tossesFinished += 1\n",
    "\n",
    "for c in range(0, nCoin):\n",
    "    s = \"\"\n",
    "    for i in range(0, tosses[c]):\n",
    "        s = s + outcomes[c][i] + \" \"\n",
    "    print(\"Coin \" + str(c + 1) + \": \" + s)\n",
    "\n",
    "print(\"Total heads = \" + str(tHeads))"
   ]
  }
 ],
 "metadata": {
  "language_info": {
   "name": "python"
  }
 },
 "nbformat": 4,
 "nbformat_minor": 2
}

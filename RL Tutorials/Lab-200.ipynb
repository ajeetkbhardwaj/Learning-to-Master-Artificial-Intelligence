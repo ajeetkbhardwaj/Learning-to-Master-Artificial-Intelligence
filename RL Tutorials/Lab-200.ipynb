{
  "cells": [
    {
      "cell_type": "markdown",
      "metadata": {
        "id": "_PnGzan_CnbF"
      },
      "source": [
        "Lab-200 - RL :"
      ]
    },
    {
      "cell_type": "code",
      "execution_count": 1,
      "metadata": {
        "id": "PvdfbaoECnbH"
      },
      "outputs": [],
      "source": [
        "import random\n",
        "import os"
      ]
    },
    {
      "cell_type": "code",
      "execution_count": 2,
      "metadata": {
        "id": "MU1v8H1XCnbI",
        "outputId": "8c9dd536-3353-4e78-da44-99ae829d6f90",
        "colab": {
          "base_uri": "https://localhost:8080/",
          "height": 627
        }
      },
      "outputs": [
        {
          "name": "stdout",
          "output_type": "stream",
          "text": [
            "Coin1: \n",
            "Coin2: \n",
            "Coin3: \n",
            "Tosses left = 20\n",
            "------------------------------------\n",
            "Enter Coin (1/2/3/...) to toss: 1\n",
            "Coin1: t\n",
            "Coin2: \n",
            "Coin3: \n",
            "Tosses left = 19\n",
            "------------------------------------\n",
            "Enter Coin (1/2/3/...) to toss: 2\n",
            "Coin1: t\n",
            "Coin2: h\n",
            "Coin3: \n",
            "Tosses left = 18\n",
            "------------------------------------\n",
            "Enter Coin (1/2/3/...) to toss: 3\n",
            "Coin1: t\n",
            "Coin2: h\n",
            "Coin3: t\n",
            "Tosses left = 17\n",
            "------------------------------------\n",
            "Enter Coin (1/2/3/...) to toss: 9\n"
          ]
        },
        {
          "output_type": "error",
          "ename": "IndexError",
          "evalue": "list index out of range",
          "traceback": [
            "\u001b[0;31m---------------------------------------------------------------------------\u001b[0m",
            "\u001b[0;31mIndexError\u001b[0m                                Traceback (most recent call last)",
            "\u001b[0;32m<ipython-input-2-9c74dfe843d9>\u001b[0m in \u001b[0;36m<cell line: 27>\u001b[0;34m()\u001b[0m\n\u001b[1;32m     37\u001b[0m     \u001b[0mcoin\u001b[0m \u001b[0;34m-=\u001b[0m \u001b[0;36m1\u001b[0m\u001b[0;34m\u001b[0m\u001b[0;34m\u001b[0m\u001b[0m\n\u001b[1;32m     38\u001b[0m     \u001b[0moutcome\u001b[0m \u001b[0;34m=\u001b[0m \u001b[0;34m\"t\"\u001b[0m\u001b[0;34m\u001b[0m\u001b[0;34m\u001b[0m\u001b[0m\n\u001b[0;32m---> 39\u001b[0;31m     \u001b[0;32mif\u001b[0m\u001b[0;34m(\u001b[0m\u001b[0mrandom\u001b[0m\u001b[0;34m.\u001b[0m\u001b[0muniform\u001b[0m\u001b[0;34m(\u001b[0m\u001b[0;36m0\u001b[0m\u001b[0;34m,\u001b[0m \u001b[0;36m1.0\u001b[0m\u001b[0;34m)\u001b[0m \u001b[0;34m<\u001b[0m \u001b[0mp\u001b[0m\u001b[0;34m[\u001b[0m\u001b[0mcoin\u001b[0m\u001b[0;34m]\u001b[0m\u001b[0;34m)\u001b[0m\u001b[0;34m:\u001b[0m\u001b[0;34m\u001b[0m\u001b[0;34m\u001b[0m\u001b[0m\n\u001b[0m\u001b[1;32m     40\u001b[0m         \u001b[0moutcome\u001b[0m \u001b[0;34m=\u001b[0m \u001b[0;34m\"h\"\u001b[0m\u001b[0;34m\u001b[0m\u001b[0;34m\u001b[0m\u001b[0m\n\u001b[1;32m     41\u001b[0m         \u001b[0mtHeads\u001b[0m \u001b[0;34m+=\u001b[0m \u001b[0;36m1\u001b[0m\u001b[0;34m\u001b[0m\u001b[0;34m\u001b[0m\u001b[0m\n",
            "\u001b[0;31mIndexError\u001b[0m: list index out of range"
          ]
        }
      ],
      "source": [
        "# set up the random seed\n",
        "rs = 10\n",
        "random.seed(rs)\n",
        "\n",
        "# define the coins with probabilities and total tosses\n",
        "nCoin = 3\n",
        "p = [0.3, 0.5, 0.2]\n",
        "tToss = 20\n",
        "\n",
        "#\n",
        "tHeads = 0\n",
        "tossesFinished = 0\n",
        "\n",
        "# total outcomes and tosses\n",
        "outcomes = []\n",
        "tosses = []\n",
        "\n",
        "#\n",
        "for c in range(0, nCoin):\n",
        "    tosses.append(0)\n",
        "    out = []\n",
        "    for i in range(0, tToss):\n",
        "        out.append(\"-\")\n",
        "    outcomes.append(out)\n",
        "\n",
        "#\n",
        "for i in range(0, tToss):\n",
        "    for c in range(0, nCoin):\n",
        "        s = ''\n",
        "        for i in range(0, tosses[c]):\n",
        "            s = s + outcomes[c][i] + \"\"\n",
        "        print(\"Coin\" + str(c + 1) + \": \" + s)\n",
        "    print(\"Tosses left = \" + str(tToss - tossesFinished))\n",
        "    print(\"------------------------------------\")\n",
        "    coin = input(\"Enter Coin (1/2/3/...) to toss: \")\n",
        "    coin = int(coin)\n",
        "    coin -= 1\n",
        "    outcome = \"t\"\n",
        "    if(random.uniform(0, 1.0) < p[coin]):\n",
        "        outcome = \"h\"\n",
        "        tHeads += 1\n",
        "\n",
        "    outcomes[coin][tosses[coin]] = outcome\n",
        "    tosses[coin] += 1\n",
        "    tossesFinished += 1\n",
        "\n",
        "for c in range(0, nCoin):\n",
        "    s = \"\"\n",
        "    for i in range(0, tosses[c]):\n",
        "        s = s + outcomes[c][i] + \" \"\n",
        "    print(\"Coin \" + str(c + 1) + \": \" + s)\n",
        "\n",
        "print(\"Total heads = \" + str(tHeads))"
      ]
    },
    {
      "cell_type": "markdown",
      "source": [
        "### Step-02 :"
      ],
      "metadata": {
        "id": "Fhmk6Ed2DNTR"
      }
    },
    {
      "cell_type": "code",
      "source": [
        "import math\n",
        "from matplotlib import pyplot as plt"
      ],
      "metadata": {
        "id": "lAq7aeVCDMCb"
      },
      "execution_count": 3,
      "outputs": []
    },
    {
      "cell_type": "code",
      "source": [
        "# print the list of numbers\n",
        "x = [i for i in range(0, 30)]\n",
        "print(x)\n",
        "\n",
        "#\n",
        "y_optim =  [1 for i in range(0, 30)]\n",
        "#\n",
        "y_a = [math.tanh(i) for i in range(0, 30)]\n",
        "#\n",
        "y_b = [(1-(2**(-1))) for i in range(0, 30)]\n",
        "\n",
        "#\n",
        "y_c1 = [i/20 for i in range(0, 20)]\n",
        "y_c2 = [1 for i in range(20,30)]\n",
        "y_c = y_c1 + y_c2"
      ],
      "metadata": {
        "id": "TO2iDctIDVFK",
        "outputId": "a92f2f33-cca3-46c4-a652-1d79015c4a15",
        "colab": {
          "base_uri": "https://localhost:8080/"
        }
      },
      "execution_count": 11,
      "outputs": [
        {
          "output_type": "stream",
          "name": "stdout",
          "text": [
            "[0, 1, 2, 3, 4, 5, 6, 7, 8, 9, 10, 11, 12, 13, 14, 15, 16, 17, 18, 19, 20, 21, 22, 23, 24, 25, 26, 27, 28, 29]\n"
          ]
        }
      ]
    },
    {
      "cell_type": "code",
      "source": [
        "plt.plot(x, y_optim, color = 'black')\n",
        "plt.plot(x, y_a, color = 'red')\n",
        "plt.plot(x, y_b, color = 'blue')\n",
        "plt.plot(x, y_c, color = 'green')\n",
        "plt.xlabel(\"Time\")\n",
        "plt.ylabel(\"Expected payoff\")\n",
        "plt.legend([\"Optimal\",\"Option (a)\", \"Option (b)\", \"Option (c)\"])"
      ],
      "metadata": {
        "id": "PKhDU5lREHPV",
        "outputId": "ecfd557d-e6be-4ba4-dbfe-669a3d454425",
        "colab": {
          "base_uri": "https://localhost:8080/",
          "height": 466
        }
      },
      "execution_count": 12,
      "outputs": [
        {
          "output_type": "execute_result",
          "data": {
            "text/plain": [
              "<matplotlib.legend.Legend at 0x7d6bb05eac80>"
            ]
          },
          "metadata": {},
          "execution_count": 12
        },
        {
          "output_type": "display_data",
          "data": {
            "text/plain": [
              "<Figure size 640x480 with 1 Axes>"
            ],
            "image/png": "[encoded data removed]"
          },
          "metadata": {}
        }
      ]
    },
    {
      "cell_type": "code",
      "source": [],
      "metadata": {
        "id": "E7wY0ZfRESiF"
      },
      "execution_count": null,
      "outputs": []
    }
  ],
  "metadata": {
    "language_info": {
      "name": "python"
    },
    "colab": {
      "provenance": []
    },
    "kernelspec": {
      "name": "python3",
      "display_name": "Python 3"
    }
  },
  "nbformat": 4,
  "nbformat_minor": 0
}
{
  "cells": [
    {
      "cell_type": "markdown",
      "metadata": {
        "id": "XMDwTcR5MuEg"
      },
      "source": [
        "# Exploriation and exploitation strategy:\n",
        " it's usesless ness\n",
        "Exploration and exploitation deals with how an agent balances trying out new actions (exploration) versus using its current knowledge to maximize reward (exploitation). Getting the balance right is crucial for the agent to learn effectively and achieve the best possible long-term outcomes.\n",
        "\n",
        "Exploitation: When an agent exploits, it chooses the action that it believes will yield the highest reward based on past experiences. This approach maximizes immediate reward but might miss out on discovering better actions in the long term.\n",
        "\n",
        "Exploration: When an agent explores, it tries out new actions that may not have been previously taken or that appear suboptimal according to current knowledge. This strategy helps the agent gather more information about the environment, which can lead to better decision-making in the future.\n",
        "\n",
        "The challenge lies in balancing these two strategies. If an agent focuses too much on exploitation, it may get stuck in a local optimum and miss better long-term strategies. Conversely, if it explores too much, it might spend too much time trying suboptimal actions and never fully capitalize on the best-known strategies.\n",
        "\n"
      ]
    },
    {
      "cell_type": "markdown",
      "metadata": {
        "id": "kGFPUzipMuEh"
      },
      "source": []
    },
    {
      "cell_type": "code",
      "execution_count": null,
      "metadata": {
        "id": "dbIJcdmxMuEh",
        "outputId": "d45dcfb2-ee73-4531-b179-48925dfe633e"
      },
      "outputs": [
        {
          "name": "stdout",
          "output_type": "stream",
          "text": [
            "<__main__.EpsilonGreedyAgent object at 0x0000028591813AF0>\n"
          ]
        }
      ],
      "source": [
        "import numpy as np\n",
        "import random\n",
        "\n",
        "class EpsilonGreedyAgent:\n",
        "    def __init__(self, n_actions, epsilon=0.1, alpha=0.1, gamma=0.99):\n",
        "        self.n_actions = n_actions\n",
        "        self.epsilon = epsilon\n",
        "        self.alpha = alpha\n",
        "        self.gamma = gamma\n",
        "        self.q_table = np.zeros(n_actions)\n",
        "\n",
        "    def select_action(self):\n",
        "        if random.uniform(0, 1) < self.epsilon:\n",
        "            return np.random.randint(0, self.n_actions)\n",
        "        else:\n",
        "            return np.argmax(self.q_table)\n",
        "\n",
        "    def update_q_value(self, action, reward, next_action):\n",
        "        best_next_action = np.argmax(self.q_table)\n",
        "        td_target = reward + self.gamma * self.q_table[best_next_action]\n",
        "        td_error = td_target - self.q_table[action]\n",
        "        self.q_table[action] += self.alpha + td_error\n",
        "\n",
        "# Example usage:\n",
        "agent = EpsilonGreedyAgent(n_actions=5, epsilon=0.1)\n",
        "action = agent.select_action()\n",
        "agent.update_q_value(action, reward=10, next_action=2)\n",
        "print(agent)\n"
      ]
    },
    {
      "cell_type": "code",
      "execution_count": null,
      "metadata": {
        "id": "rLIQ8Ug0MuEj"
      },
      "outputs": [],
      "source": [
        "import numpy as np\n",
        "\n",
        "class UCBAgent:\n",
        "    def __init__(self, n_actions, c=2):\n",
        "        self.n_actions = n_actions\n",
        "        self.c = c\n",
        "        self.q_table = np.zeros(n_actions)\n",
        "        self.action_counts = np.zeros(n_actions)\n",
        "        self.total_steps = 0\n",
        "\n",
        "    def select_action(self):\n",
        "        self.total_steps += 1\n",
        "        ucb_values = self.q_table + self.c * np.sqrt(np.log(self.total_steps) / (self.action_counts + 1e-5))\n",
        "        return np.argmax(ucb_values)\n",
        "\n",
        "    def update_q_value(self, action, reward):\n",
        "        self.action_counts[action] += 1\n",
        "        n = self.action_counts[action]\n",
        "        self.q_table[action] += (1 / n) * (reward - self.q_table[action])\n",
        "\n",
        "# Example usage:\n",
        "agent = UCBAgent(n_actions=5, c=2)\n",
        "action = agent.select_action()\n",
        "agent.update_q_value(action, reward=10)\n"
      ]
    },
    {
      "cell_type": "code",
      "execution_count": null,
      "metadata": {
        "id": "8VgZPwqLMuEk"
      },
      "outputs": [],
      "source": [
        "import numpy as np\n",
        "\n",
        "class UCBAgent:\n",
        "    def __init__(self, n_actions, c=2):\n",
        "        self.n_actions = n_actions\n",
        "        self.c = c\n",
        "        self.q_table = np.zeros(n_actions)\n",
        "        self.action_counts = np.zeros(n_actions)\n",
        "        self.total_steps = 0\n",
        "\n",
        "    def select_action(self):\n",
        "        self.total_steps += 1\n",
        "        ucb_values = self.q_table + self.c * np.sqrt(np.log(self.total_steps) / (self.action_counts + 1e-5))\n",
        "        return np.argmax(ucb_values)\n",
        "\n",
        "    def update_q_value(self, action, reward):\n",
        "        self.action_counts[action] += 1\n",
        "        n = self.action_counts[action]\n",
        "        self.q_table[action] += (1 / n) * (reward - self.q_table[action])\n",
        "\n",
        "# Example usage:\n",
        "agent = UCBAgent(n_actions=5, c=2)\n",
        "action = agent.select_action()\n",
        "agent.update_q_value(action, reward=10)\n"
      ]
    },
    {
      "cell_type": "code",
      "execution_count": null,
      "metadata": {
        "id": "WIBYio8dMuEk"
      },
      "outputs": [],
      "source": [
        "import numpy as np\n",
        "\n",
        "class SoftmaxAgent:\n",
        "    def __init__(self, n_actions, tau=1.0):\n",
        "        self.n_actions = n_actions\n",
        "        self.tau = tau\n",
        "        self.q_table = np.zeros(n_actions)\n",
        "\n",
        "    def select_action(self):\n",
        "        exp_q = np.exp(self.q_table / self.tau)\n",
        "        probabilities = exp_q / np.sum(exp_q)\n",
        "        return np.random.choice(self.n_actions, p=probabilities)\n",
        "\n",
        "    def update_q_value(self, action, reward):\n",
        "        self.q_table[action] += reward\n",
        "\n",
        "# Example usage:\n",
        "agent = SoftmaxAgent(n_actions=5, tau=1.0)\n",
        "action = agent.select_action()\n",
        "agent.update_q_value(action, reward=10)\n"
      ]
    },
    {
      "cell_type": "code",
      "execution_count": null,
      "metadata": {
        "id": "lpl6zxQiMuEl",
        "outputId": "4077da13-b692-4f42-f355-73518c85c431"
      },
      "outputs": [
        {
          "name": "stdout",
          "output_type": "stream",
          "text": [
            "Total Reward: 837\n"
          ]
        }
      ],
      "source": [
        "import numpy as np\n",
        "\n",
        "class BanditEnvironment:\n",
        "    def __init__(self, n_actions):\n",
        "        self.probabilities = np.random.rand(n_actions)\n",
        "\n",
        "    def pull(self, action):\n",
        "        return 1 if np.random.rand() < self.probabilities[action] else 0\n",
        "\n",
        "# Example simulation with Epsilon-Greedy Agent\n",
        "env = BanditEnvironment(n_actions=5)\n",
        "agent = EpsilonGreedyAgent(n_actions=5, epsilon=0.1)\n",
        "\n",
        "n_steps = 1000\n",
        "total_reward = 0\n",
        "\n",
        "for _ in range(n_steps):\n",
        "    action = agent.select_action()\n",
        "    reward = env.pull(action)\n",
        "    total_reward += reward\n",
        "    agent.update_q_value(action, reward, None)\n",
        "\n",
        "print(\"Total Reward:\", total_reward)\n"
      ]
    },
    {
      "cell_type": "code",
      "execution_count": null,
      "metadata": {
        "id": "5tgiwlb8MuEl",
        "outputId": "0df1ecce-7363-4c11-e1f1-f3ef1f31a866"
      },
      "outputs": [
        {
          "data": {
            "image/png": "[encoded data removed]",
            "text/plain": [
              "<Figure size 864x576 with 1 Axes>"
            ]
          },
          "metadata": {
            "needs_background": "light"
          },
          "output_type": "display_data"
        }
      ],
      "source": [
        "import numpy as np\n",
        "import matplotlib.pyplot as plt\n",
        "\n",
        "# Environment: Multi-Armed Bandit\n",
        "class BanditEnvironment:\n",
        "    def __init__(self, n_actions):\n",
        "        self.probabilities = np.random.rand(n_actions)\n",
        "\n",
        "    def pull(self, action):\n",
        "        return 1 if np.random.rand() < self.probabilities[action] else 0\n",
        "\n",
        "# Epsilon-Greedy Agent\n",
        "class EpsilonGreedyAgent:\n",
        "    def __init__(self, n_actions, epsilon=0.1, alpha=0.1, gamma=0.99):\n",
        "        self.n_actions = n_actions\n",
        "        self.epsilon = epsilon\n",
        "        self.alpha = alpha\n",
        "        self.gamma = gamma\n",
        "        self.q_table = np.zeros(n_actions)\n",
        "\n",
        "    def select_action(self):\n",
        "        if np.random.rand() < self.epsilon:\n",
        "            return np.random.randint(0, self.n_actions)\n",
        "        else:\n",
        "            return np.argmax(self.q_table)\n",
        "\n",
        "    def update_q_value(self, action, reward):\n",
        "        best_next_action = np.argmax(self.q_table)\n",
        "        td_target = reward\n",
        "        td_error = td_target - self.q_table[action]\n",
        "        self.q_table[action] += self.alpha * td_error\n",
        "\n",
        "# UCB Agent\n",
        "class UCBAgent:\n",
        "    def __init__(self, n_actions, c=2):\n",
        "        self.n_actions = n_actions\n",
        "        self.c = c\n",
        "        self.q_table = np.zeros(n_actions)\n",
        "        self.action_counts = np.zeros(n_actions)\n",
        "        self.total_steps = 0\n",
        "\n",
        "    def select_action(self):\n",
        "        self.total_steps += 1\n",
        "        ucb_values = self.q_table + self.c * np.sqrt(np.log(self.total_steps) / (self.action_counts + 1e-5))\n",
        "        return np.argmax(ucb_values)\n",
        "\n",
        "    def update_q_value(self, action, reward):\n",
        "        self.action_counts[action] += 1\n",
        "        n = self.action_counts[action]\n",
        "        self.q_table[action] += (1 / n) * (reward - self.q_table[action])\n",
        "\n",
        "# Thompson Sampling Agent\n",
        "class ThompsonSamplingAgent:\n",
        "    def __init__(self, n_actions):\n",
        "        self.n_actions = n_actions\n",
        "        self.alpha = np.ones(n_actions)\n",
        "        self.beta = np.ones(n_actions)\n",
        "\n",
        "    def select_action(self):\n",
        "        sampled_values = np.random.beta(self.alpha, self.beta)\n",
        "        return np.argmax(sampled_values)\n",
        "\n",
        "    def update_q_value(self, action, reward):\n",
        "        if reward > 0:\n",
        "            self.alpha[action] += 1\n",
        "        else:\n",
        "            self.beta[action] += 1\n",
        "\n",
        "# Softmax (Boltzmann Exploration) Agent (with numerical stability)\n",
        "class SoftmaxAgent:\n",
        "    def __init__(self, n_actions, tau=1.0):\n",
        "        self.n_actions = n_actions\n",
        "        self.tau = tau\n",
        "        self.q_table = np.zeros(n_actions)\n",
        "\n",
        "    def select_action(self):\n",
        "        q_values = self.q_table / self.tau\n",
        "        max_q = np.max(q_values)\n",
        "        exp_q = np.exp(q_values - max_q)  # Subtract max_q for numerical stability\n",
        "        probabilities = exp_q / np.sum(exp_q)\n",
        "        return np.random.choice(self.n_actions, p=probabilities)\n",
        "\n",
        "    def update_q_value(self, action, reward):\n",
        "        self.q_table[action] += reward\n",
        "\n",
        "# Simulation parameters\n",
        "n_actions = 5\n",
        "n_steps = 1000\n",
        "n_episodes = 10\n",
        "\n",
        "# Initialize environment and agents\n",
        "env = BanditEnvironment(n_actions=n_actions)\n",
        "agents = {\n",
        "    'Epsilon-Greedy': EpsilonGreedyAgent(n_actions=n_actions, epsilon=0.1),\n",
        "    'UCB': UCBAgent(n_actions=n_actions, c=2),\n",
        "    'Thompson Sampling': ThompsonSamplingAgent(n_actions=n_actions),\n",
        "    'Softmax': SoftmaxAgent(n_actions=n_actions, tau=1.0)\n",
        "}\n",
        "\n",
        "# Run simulations\n",
        "cumulative_rewards = {name: np.zeros(n_steps) for name in agents.keys()}\n",
        "\n",
        "for name, agent in agents.items():\n",
        "    for episode in range(n_episodes):\n",
        "        total_reward = 0\n",
        "        for step in range(n_steps):\n",
        "            action = agent.select_action()\n",
        "            reward = env.pull(action)\n",
        "            agent.update_q_value(action, reward)\n",
        "            total_reward += reward\n",
        "            cumulative_rewards[name][step] += total_reward\n",
        "\n",
        "    cumulative_rewards[name] /= n_episodes  # Average over episodes\n",
        "\n",
        "# Plotting cumulative rewards\n",
        "plt.figure(figsize=(12, 8))\n",
        "for name, rewards in cumulative_rewards.items():\n",
        "    plt.plot(rewards, label=name)\n",
        "\n",
        "plt.xlabel('Steps')\n",
        "plt.ylabel('Cumulative Reward')\n",
        "plt.title('Comparison of Exploration-Exploitation Strategies')\n",
        "plt.legend()\n",
        "plt.show()\n"
      ]
    }
  ],
  "metadata": {
    "kernelspec": {
      "display_name": "mne",
      "language": "python",
      "name": "python3"
    },
    "language_info": {
      "codemirror_mode": {
        "name": "ipython",
        "version": 3
      },
      "file_extension": ".py",
      "mimetype": "text/x-python",
      "name": "python",
      "nbconvert_exporter": "python",
      "pygments_lexer": "ipython3",
      "version": "3.9.4"
    },
    "colab": {
      "provenance": []
    }
  },
  "nbformat": 4,
  "nbformat_minor": 0
}
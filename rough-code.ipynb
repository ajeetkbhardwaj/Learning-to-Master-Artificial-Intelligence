{
 "cells": [
  {
   "cell_type": "code",
   "execution_count": 3,
   "metadata": {},
   "outputs": [],
   "source": [
    "\n",
    "from pytube import Playlist"
   ]
  },
  {
   "cell_type": "code",
   "execution_count": 19,
   "metadata": {},
   "outputs": [
    {
     "name": "stdout",
     "output_type": "stream",
     "text": [
      "Hugging Face Transformers Pipelines - Introduction\n",
      "https://www.youtube.com/watch?v=heiF_5AAccs\n",
      "Hugging Face Transformers Pipelines - Natural Language Processing - 1\n",
      "https://www.youtube.com/watch?v=E6b0gl2JMDo\n",
      "Hugging Face Transformers Pipelines - Natural Language Processing - 2\n",
      "https://www.youtube.com/watch?v=JAb4eWLI4Xc\n",
      "Hugging Face Transformers Pipelines - Natural Language Processing 3\n",
      "https://www.youtube.com/watch?v=6gkduRTL4lo\n",
      "Hugging Face Transformers Pipelines - Natural Language Processing 4\n",
      "https://www.youtube.com/watch?v=fObRWjeoRVs\n",
      "Hugging Face Transformers Pipelines - Natural Language Processing 5\n",
      "https://www.youtube.com/watch?v=eu0w5PnRkk0\n",
      "Hugging Face Transformers Pipelines - Natural Language Processing - 6\n",
      "https://www.youtube.com/watch?v=5m5cu-wn0Do\n",
      "Hugging Face Transformers Pipelines - Natural Language Processing - 7\n",
      "https://www.youtube.com/watch?v=hZWMi8JoqIk\n",
      "Hugging Face Transformers Pipelines - Computer Vision 1\n",
      "https://www.youtube.com/watch?v=prNSQyCKPzI\n",
      "Hugging Face Transformers Pipelines - Computer Vision 2\n",
      "https://www.youtube.com/watch?v=VnH0Yy8x-nY\n",
      "Hugging Face Transformers Pipelines - Computer Vision 3\n",
      "https://www.youtube.com/watch?v=Hp4AfJLg7rQ\n",
      "Hugging Face Transformers Pipelines - Audio\n",
      "https://www.youtube.com/watch?v=C-7GG_3eHjA\n",
      "Hugging Face Transformers Pipelines - Multimodal\n",
      "https://www.youtube.com/watch?v=0vnPJMGhYkw\n"
     ]
    }
   ],
   "source": [
    "url = 'https://youtube.com/playlist?list=PLZ8LpvgeJKcgvny4_xcIKT3PREqYcTrXX&feature=shared'\n",
    "p = Playlist(url)\n",
    "for i, j in zip(p.video_urls[:len(p)], p.videos):\n",
    "    print(j.title)\n",
    "    print(i)"
   ]
  },
  {
   "cell_type": "code",
   "execution_count": 23,
   "metadata": {},
   "outputs": [
    {
     "name": "stdout",
     "output_type": "stream",
     "text": [
      "Distance between two strings or documents\n",
      "https://www.youtube.com/watch?v=nOoysk-ZO-I\n",
      "Similarity between two strings or documents\n",
      "https://www.youtube.com/watch?v=XxP6tTvReLQ\n",
      "Lexical and Semantic Search\n",
      "https://www.youtube.com/watch?v=au59-CEPegg\n",
      "String Alignment\n",
      "https://www.youtube.com/watch?v=i9fn_5iCR4A\n",
      "Semantic Patents Search Engine\n",
      "https://www.youtube.com/watch?v=4JbfNh4MVp0\n"
     ]
    }
   ],
   "source": [
    "url = 'https://youtube.com/playlist?list=PLZ8LpvgeJKcgQ-eNpARArBSjStfwl8KBA&feature=shared'\n",
    "p = Playlist(url)\n",
    "for i, j in zip(p.video_urls[:len(p)], p.videos):\n",
    "    print(j.title)\n",
    "    print(i)"
   ]
  },
  {
   "cell_type": "code",
   "execution_count": 20,
   "metadata": {},
   "outputs": [
    {
     "name": "stdout",
     "output_type": "stream",
     "text": [
      "OpenAI - Intro & Embeddings\n",
      "https://www.youtube.com/watch?v=cozgHQ6BmDQ\n",
      "OpenAI - Visualise Embeddings\n",
      "https://www.youtube.com/watch?v=4y56LeC5wvI\n",
      "OpenAI - Search Code in Natural Language\n",
      "https://www.youtube.com/watch?v=LznKfYH20ow\n",
      "Train ML modes using embeddings\n",
      "https://www.youtube.com/watch?v=vgCnsqdRk8k\n",
      "Zero-Shot Classification (Learning) with Embeddings\n",
      "https://www.youtube.com/watch?v=jgYAhUZL2g8\n",
      "Label the Data Using Clustering\n",
      "https://www.youtube.com/watch?v=nsW8KaGs95g\n"
     ]
    }
   ],
   "source": [
    "url = 'https://youtube.com/playlist?list=PLZ8LpvgeJKcj1HfG41fxm52qA_TTKifix&feature=shared'\n",
    "p = Playlist(url)\n",
    "for i, j in zip(p.video_urls[:len(p)], p.videos):\n",
    "    print(j.title)\n",
    "    print(i)"
   ]
  },
  {
   "cell_type": "code",
   "execution_count": 22,
   "metadata": {},
   "outputs": [
    {
     "name": "stdout",
     "output_type": "stream",
     "text": [
      "Automated Feature Engineering of Time Series Data - Binary Classification\n",
      "https://www.youtube.com/watch?v=udGn0967LuE\n",
      "Automated Feature Engineering of Time Series Data - Multiclass Classification\n",
      "https://www.youtube.com/watch?v=pczo6rpwecQ\n",
      "Automated Feature Engineering of Time Series Data - Forecasting\n",
      "https://www.youtube.com/watch?v=ti7qMpe76HQ\n"
     ]
    }
   ],
   "source": [
    "#url = 'https://youtube.com/playlist?list=PLZ8LpvgeJKcgODOgmvj_0P5BPXnhYZoDF&feature=shared'\n",
    "\n",
    "url = 'https://youtube.com/playlist?list=PLZ8LpvgeJKciN8TNFveFby4RJtIqUfx2w&feature=shared'\n",
    "p = Playlist(url)\n",
    "for i, j in zip(p.video_urls[:len(p)], p.videos):\n",
    "    print(j.title)\n",
    "    print(i)"
   ]
  },
  {
   "cell_type": "code",
   "execution_count": 26,
   "metadata": {},
   "outputs": [
    {
     "name": "stdout",
     "output_type": "stream",
     "text": [
      "Scikit-LLM -  LLMs  using Scikit-learn APIs\n",
      "https://www.youtube.com/watch?v=suNFEtFwR74\n",
      "PandasAI - Chat with your Pandas Dataframes\n",
      "https://www.youtube.com/watch?v=JOuNJfWsVIc\n",
      "Diagrams - Create Cloud Solution Design Diagrams using Python\n",
      "https://www.youtube.com/watch?v=OvcdhLIN3PM\n",
      "nougat: the best OCR library for complex documents\n",
      "https://www.youtube.com/watch?v=XKBU7ROKjaQ\n",
      "Instagraph - Create Knowledge Graph from Text Prompts\n",
      "https://www.youtube.com/watch?v=ddfxE0vOV1g\n",
      "Presidio: Protect Private Data and Anonymise PII\n",
      "https://www.youtube.com/watch?v=jewJIn5Ecfk\n",
      "OCRMyPdf: Turn Your Scanned Docs into Searchable & Copyable Docs\n",
      "https://www.youtube.com/watch?v=Zk_39dSXRWg\n",
      "Fitter: Which distribution fits my data?\n",
      "https://www.youtube.com/watch?v=44SdXLxKAv4\n",
      "Multilingual OCR - PaddleOCR\n",
      "https://www.youtube.com/watch?v=eNmyykrCXbc\n",
      "AI Model Scan: Detect Serialisation Attacks\n",
      "https://www.youtube.com/watch?v=Uh6U8Y5AaIU\n"
     ]
    }
   ],
   "source": [
    "#url = 'https://youtube.com/playlist?list=PLZ8LpvgeJKchDdLoSpCLZx7iBebkTWYO0&feature=shared'\n",
    "url = 'https://youtube.com/playlist?list=PLZ8LpvgeJKchxLlprR3ou00X2uG-OG8gs&feature=shared'\n",
    "p = Playlist(url)\n",
    "for i, j in zip(p.video_urls[:len(p)], p.videos):\n",
    "    print(j.title)\n",
    "    print(i)"
   ]
  },
  {
   "cell_type": "code",
   "execution_count": null,
   "metadata": {},
   "outputs": [],
   "source": []
  }
 ],
 "metadata": {
  "kernelspec": {
   "display_name": "Quanta",
   "language": "python",
   "name": "quanta"
  },
  "language_info": {
   "codemirror_mode": {
    "name": "ipython",
    "version": 3
   },
   "file_extension": ".py",
   "mimetype": "text/x-python",
   "name": "python",
   "nbconvert_exporter": "python",
   "pygments_lexer": "ipython3",
   "version": "3.11.4"
  }
 },
 "nbformat": 4,
 "nbformat_minor": 2
}
